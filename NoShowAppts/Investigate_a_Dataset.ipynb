{
 "cells": [
  {
   "cell_type": "markdown",
   "metadata": {},
   "source": [
    "# Project: Investigate a Dataset - No Show Appointments\n",
    "\n",
    "## Table of Contents\n",
    "<ul>\n",
    "<li><a href=\"#intro\">Introduction</a></li>\n",
    "<li><a href=\"#wrangling\">Data Wrangling</a></li>\n",
    "<li><a href=\"#eda\">Exploratory Data Analysis</a></li>\n",
    "<li><a href=\"#conclusions\">Conclusions</a></li>\n",
    "</ul>"
   ]
  },
  {
   "cell_type": "markdown",
   "metadata": {},
   "source": [
    "<a id='intro'></a>\n",
    "## Introduction\n",
    "\n",
    "### Dataset Description \n",
    "\n",
    "The dataset contains a Brazilian record of 110,527 scheduled doctor appointments from 04/29/2016 to 06/08/2016. I will be exploring the dataset to see if there is a correlation between SMS reminders and the appoinent's day of the week with the patients no showing for their appointments. \n",
    "\n",
    "#### Dataset Variables:\n",
    "\n",
    ">**PatientId:** Unique patient identification number  \n",
    "**AppointmentID**: Unique appointment number  \n",
    "**Gender**: Male or Female  \n",
    "**ScheduledDay**: Day patient called to make the appointment  \n",
    "**AppointmentDay**: Day of the appointment  \n",
    "**Age**: Patient's age  \n",
    "**Neighbourhood**: Location of the hospital where the appointment takes place  \n",
    "**Hipertension**: Hypertension patient or not  \n",
    "**Diabetes**: Diabetes patient or not  \n",
    "**Alcoholism**: Alcohol addiction or not  \n",
    "**Handicap**: Handicaped or not  \n",
    "**SMS_received**: Patient receive an SMS appointment reminder or not  \n",
    "**No-show**:'No' if the patient showed up to their appointment and 'Yes' if they did not show.\n",
    "\n",
    "\n",
    "\n",
    "### Question(s) for Analysis\n",
    "\n",
    "The dependent value for the analysis will be the No-show column. AppointmentDay, SMS-received and PatientID will be the independent values. \n",
    "\n",
    ">Q1: Which day(s) are clients more likely to be a no show?  \n",
    "Q2: Is there a correlation betwen no shows and not receiving an SMS reminder?"
   ]
  },
  {
   "cell_type": "code",
   "execution_count": 1,
   "metadata": {},
   "outputs": [],
   "source": [
    "import pandas as pd\n",
    "import numpy as np\n",
    "import datetime\n",
    "import seaborn as sns\n",
    "import matplotlib.pyplot as plt\n",
    "% matplotlib inline"
   ]
  },
  {
   "cell_type": "code",
   "execution_count": null,
   "metadata": {},
   "outputs": [],
   "source": [
    "!pip install -U numpy"
   ]
  },
  {
   "cell_type": "markdown",
   "metadata": {},
   "source": [
    "<a id='wrangling'></a>\n",
    "## Data Wrangling\n",
    "\n",
    "### General Purpose"
   ]
  },
  {
   "cell_type": "code",
   "execution_count": 6,
   "metadata": {},
   "outputs": [],
   "source": [
    "# load dataset\n",
    "\n",
    "df = pd.read_csv('noshowappointments-kagglev2-may-2016.csv')\n",
    "df.to_csv('df_backup.csv', index = False)"
   ]
  },
  {
   "cell_type": "code",
   "execution_count": 7,
   "metadata": {},
   "outputs": [
    {
     "data": {
      "text/html": [
       "<div>\n",
       "<style scoped>\n",
       "    .dataframe tbody tr th:only-of-type {\n",
       "        vertical-align: middle;\n",
       "    }\n",
       "\n",
       "    .dataframe tbody tr th {\n",
       "        vertical-align: top;\n",
       "    }\n",
       "\n",
       "    .dataframe thead th {\n",
       "        text-align: right;\n",
       "    }\n",
       "</style>\n",
       "<table border=\"1\" class=\"dataframe\">\n",
       "  <thead>\n",
       "    <tr style=\"text-align: right;\">\n",
       "      <th></th>\n",
       "      <th>PatientId</th>\n",
       "      <th>AppointmentID</th>\n",
       "      <th>Gender</th>\n",
       "      <th>ScheduledDay</th>\n",
       "      <th>AppointmentDay</th>\n",
       "      <th>Age</th>\n",
       "      <th>Neighbourhood</th>\n",
       "      <th>Scholarship</th>\n",
       "      <th>Hipertension</th>\n",
       "      <th>Diabetes</th>\n",
       "      <th>Alcoholism</th>\n",
       "      <th>Handcap</th>\n",
       "      <th>SMS_received</th>\n",
       "      <th>No-show</th>\n",
       "    </tr>\n",
       "  </thead>\n",
       "  <tbody>\n",
       "    <tr>\n",
       "      <th>0</th>\n",
       "      <td>2.987250e+13</td>\n",
       "      <td>5642903</td>\n",
       "      <td>F</td>\n",
       "      <td>2016-04-29T18:38:08Z</td>\n",
       "      <td>2016-04-29T00:00:00Z</td>\n",
       "      <td>62</td>\n",
       "      <td>JARDIM DA PENHA</td>\n",
       "      <td>0</td>\n",
       "      <td>1</td>\n",
       "      <td>0</td>\n",
       "      <td>0</td>\n",
       "      <td>0</td>\n",
       "      <td>0</td>\n",
       "      <td>No</td>\n",
       "    </tr>\n",
       "  </tbody>\n",
       "</table>\n",
       "</div>"
      ],
      "text/plain": [
       "      PatientId  AppointmentID Gender          ScheduledDay  \\\n",
       "0  2.987250e+13        5642903      F  2016-04-29T18:38:08Z   \n",
       "\n",
       "         AppointmentDay  Age    Neighbourhood  Scholarship  Hipertension  \\\n",
       "0  2016-04-29T00:00:00Z   62  JARDIM DA PENHA            0             1   \n",
       "\n",
       "   Diabetes  Alcoholism  Handcap  SMS_received No-show  \n",
       "0         0           0        0             0      No  "
      ]
     },
     "execution_count": 7,
     "metadata": {},
     "output_type": "execute_result"
    }
   ],
   "source": [
    "df.head(1)"
   ]
  },
  {
   "cell_type": "code",
   "execution_count": 8,
   "metadata": {},
   "outputs": [
    {
     "data": {
      "text/plain": [
       "(110527, 14)"
      ]
     },
     "execution_count": 8,
     "metadata": {},
     "output_type": "execute_result"
    }
   ],
   "source": [
    "# get number of rows and columns\n",
    "\n",
    "df.shape"
   ]
  },
  {
   "cell_type": "code",
   "execution_count": 9,
   "metadata": {},
   "outputs": [
    {
     "data": {
      "text/plain": [
       "Index(['PatientId', 'AppointmentID', 'Gender', 'ScheduledDay',\n",
       "       'AppointmentDay', 'Age', 'Neighbourhood', 'Scholarship', 'Hipertension',\n",
       "       'Diabetes', 'Alcoholism', 'Handcap', 'SMS_received', 'No-show'],\n",
       "      dtype='object')"
      ]
     },
     "execution_count": 9,
     "metadata": {},
     "output_type": "execute_result"
    }
   ],
   "source": [
    "# column names; variables\n",
    "\n",
    "df.columns\n",
    "\n",
    "# observation: Hipertension and Handcap misspelled. Mixed naming conventions."
   ]
  },
  {
   "cell_type": "code",
   "execution_count": 10,
   "metadata": {},
   "outputs": [
    {
     "data": {
      "text/html": [
       "<div>\n",
       "<style scoped>\n",
       "    .dataframe tbody tr th:only-of-type {\n",
       "        vertical-align: middle;\n",
       "    }\n",
       "\n",
       "    .dataframe tbody tr th {\n",
       "        vertical-align: top;\n",
       "    }\n",
       "\n",
       "    .dataframe thead th {\n",
       "        text-align: right;\n",
       "    }\n",
       "</style>\n",
       "<table border=\"1\" class=\"dataframe\">\n",
       "  <thead>\n",
       "    <tr style=\"text-align: right;\">\n",
       "      <th></th>\n",
       "      <th>PatientId</th>\n",
       "      <th>AppointmentID</th>\n",
       "      <th>Age</th>\n",
       "      <th>Scholarship</th>\n",
       "      <th>Hipertension</th>\n",
       "      <th>Diabetes</th>\n",
       "      <th>Alcoholism</th>\n",
       "      <th>Handcap</th>\n",
       "      <th>SMS_received</th>\n",
       "    </tr>\n",
       "  </thead>\n",
       "  <tbody>\n",
       "    <tr>\n",
       "      <th>count</th>\n",
       "      <td>1.105270e+05</td>\n",
       "      <td>1.105270e+05</td>\n",
       "      <td>110527.000000</td>\n",
       "      <td>110527.000000</td>\n",
       "      <td>110527.000000</td>\n",
       "      <td>110527.000000</td>\n",
       "      <td>110527.000000</td>\n",
       "      <td>110527.000000</td>\n",
       "      <td>110527.000000</td>\n",
       "    </tr>\n",
       "    <tr>\n",
       "      <th>mean</th>\n",
       "      <td>1.474963e+14</td>\n",
       "      <td>5.675305e+06</td>\n",
       "      <td>37.088874</td>\n",
       "      <td>0.098266</td>\n",
       "      <td>0.197246</td>\n",
       "      <td>0.071865</td>\n",
       "      <td>0.030400</td>\n",
       "      <td>0.022248</td>\n",
       "      <td>0.321026</td>\n",
       "    </tr>\n",
       "    <tr>\n",
       "      <th>std</th>\n",
       "      <td>2.560949e+14</td>\n",
       "      <td>7.129575e+04</td>\n",
       "      <td>23.110205</td>\n",
       "      <td>0.297675</td>\n",
       "      <td>0.397921</td>\n",
       "      <td>0.258265</td>\n",
       "      <td>0.171686</td>\n",
       "      <td>0.161543</td>\n",
       "      <td>0.466873</td>\n",
       "    </tr>\n",
       "    <tr>\n",
       "      <th>min</th>\n",
       "      <td>3.921784e+04</td>\n",
       "      <td>5.030230e+06</td>\n",
       "      <td>-1.000000</td>\n",
       "      <td>0.000000</td>\n",
       "      <td>0.000000</td>\n",
       "      <td>0.000000</td>\n",
       "      <td>0.000000</td>\n",
       "      <td>0.000000</td>\n",
       "      <td>0.000000</td>\n",
       "    </tr>\n",
       "    <tr>\n",
       "      <th>25%</th>\n",
       "      <td>4.172614e+12</td>\n",
       "      <td>5.640286e+06</td>\n",
       "      <td>18.000000</td>\n",
       "      <td>0.000000</td>\n",
       "      <td>0.000000</td>\n",
       "      <td>0.000000</td>\n",
       "      <td>0.000000</td>\n",
       "      <td>0.000000</td>\n",
       "      <td>0.000000</td>\n",
       "    </tr>\n",
       "    <tr>\n",
       "      <th>50%</th>\n",
       "      <td>3.173184e+13</td>\n",
       "      <td>5.680573e+06</td>\n",
       "      <td>37.000000</td>\n",
       "      <td>0.000000</td>\n",
       "      <td>0.000000</td>\n",
       "      <td>0.000000</td>\n",
       "      <td>0.000000</td>\n",
       "      <td>0.000000</td>\n",
       "      <td>0.000000</td>\n",
       "    </tr>\n",
       "    <tr>\n",
       "      <th>75%</th>\n",
       "      <td>9.439172e+13</td>\n",
       "      <td>5.725524e+06</td>\n",
       "      <td>55.000000</td>\n",
       "      <td>0.000000</td>\n",
       "      <td>0.000000</td>\n",
       "      <td>0.000000</td>\n",
       "      <td>0.000000</td>\n",
       "      <td>0.000000</td>\n",
       "      <td>1.000000</td>\n",
       "    </tr>\n",
       "    <tr>\n",
       "      <th>max</th>\n",
       "      <td>9.999816e+14</td>\n",
       "      <td>5.790484e+06</td>\n",
       "      <td>115.000000</td>\n",
       "      <td>1.000000</td>\n",
       "      <td>1.000000</td>\n",
       "      <td>1.000000</td>\n",
       "      <td>1.000000</td>\n",
       "      <td>4.000000</td>\n",
       "      <td>1.000000</td>\n",
       "    </tr>\n",
       "  </tbody>\n",
       "</table>\n",
       "</div>"
      ],
      "text/plain": [
       "          PatientId  AppointmentID            Age    Scholarship  \\\n",
       "count  1.105270e+05   1.105270e+05  110527.000000  110527.000000   \n",
       "mean   1.474963e+14   5.675305e+06      37.088874       0.098266   \n",
       "std    2.560949e+14   7.129575e+04      23.110205       0.297675   \n",
       "min    3.921784e+04   5.030230e+06      -1.000000       0.000000   \n",
       "25%    4.172614e+12   5.640286e+06      18.000000       0.000000   \n",
       "50%    3.173184e+13   5.680573e+06      37.000000       0.000000   \n",
       "75%    9.439172e+13   5.725524e+06      55.000000       0.000000   \n",
       "max    9.999816e+14   5.790484e+06     115.000000       1.000000   \n",
       "\n",
       "        Hipertension       Diabetes     Alcoholism        Handcap  \\\n",
       "count  110527.000000  110527.000000  110527.000000  110527.000000   \n",
       "mean        0.197246       0.071865       0.030400       0.022248   \n",
       "std         0.397921       0.258265       0.171686       0.161543   \n",
       "min         0.000000       0.000000       0.000000       0.000000   \n",
       "25%         0.000000       0.000000       0.000000       0.000000   \n",
       "50%         0.000000       0.000000       0.000000       0.000000   \n",
       "75%         0.000000       0.000000       0.000000       0.000000   \n",
       "max         1.000000       1.000000       1.000000       4.000000   \n",
       "\n",
       "        SMS_received  \n",
       "count  110527.000000  \n",
       "mean        0.321026  \n",
       "std         0.466873  \n",
       "min         0.000000  \n",
       "25%         0.000000  \n",
       "50%         0.000000  \n",
       "75%         1.000000  \n",
       "max         1.000000  "
      ]
     },
     "execution_count": 10,
     "metadata": {},
     "output_type": "execute_result"
    }
   ],
   "source": [
    "# summary of statistics\n",
    "\n",
    "df.describe()\n",
    "\n",
    "# observation: min Age is -1. "
   ]
  },
  {
   "cell_type": "code",
   "execution_count": 11,
   "metadata": {
    "scrolled": true
   },
   "outputs": [
    {
     "name": "stdout",
     "output_type": "stream",
     "text": [
      "<class 'pandas.core.frame.DataFrame'>\n",
      "RangeIndex: 110527 entries, 0 to 110526\n",
      "Data columns (total 14 columns):\n",
      "PatientId         110527 non-null float64\n",
      "AppointmentID     110527 non-null int64\n",
      "Gender            110527 non-null object\n",
      "ScheduledDay      110527 non-null object\n",
      "AppointmentDay    110527 non-null object\n",
      "Age               110527 non-null int64\n",
      "Neighbourhood     110527 non-null object\n",
      "Scholarship       110527 non-null int64\n",
      "Hipertension      110527 non-null int64\n",
      "Diabetes          110527 non-null int64\n",
      "Alcoholism        110527 non-null int64\n",
      "Handcap           110527 non-null int64\n",
      "SMS_received      110527 non-null int64\n",
      "No-show           110527 non-null object\n",
      "dtypes: float64(1), int64(8), object(5)\n",
      "memory usage: 11.8+ MB\n"
     ]
    }
   ],
   "source": [
    "# quick overview of variables and data types (dtypes)\n",
    "\n",
    "df.info()\n",
    "\n",
    "# observations: ScheduledDay and AppointmentDay are object dtypes. No missing entries"
   ]
  },
  {
   "cell_type": "code",
   "execution_count": 12,
   "metadata": {},
   "outputs": [
    {
     "data": {
      "text/plain": [
       "str"
      ]
     },
     "execution_count": 12,
     "metadata": {},
     "output_type": "execute_result"
    }
   ],
   "source": [
    "# further investigate ScheduledDay dtype\n",
    "\n",
    "type(df['ScheduledDay'][0])\n",
    "\n",
    "# observation: will need to be converted to datetime"
   ]
  },
  {
   "cell_type": "code",
   "execution_count": 13,
   "metadata": {},
   "outputs": [
    {
     "data": {
      "text/plain": [
       "str"
      ]
     },
     "execution_count": 13,
     "metadata": {},
     "output_type": "execute_result"
    }
   ],
   "source": [
    "# further investigate AppointmentDay dtype\n",
    "\n",
    "type(df['AppointmentDay'][0])\n",
    "\n",
    "# observation: will need to be converted to datetime"
   ]
  },
  {
   "cell_type": "markdown",
   "metadata": {},
   "source": [
    "### Value Checks: Null, Duplicate and Unique"
   ]
  },
  {
   "cell_type": "code",
   "execution_count": 14,
   "metadata": {},
   "outputs": [
    {
     "data": {
      "text/plain": [
       "PatientId         0\n",
       "AppointmentID     0\n",
       "Gender            0\n",
       "ScheduledDay      0\n",
       "AppointmentDay    0\n",
       "Age               0\n",
       "Neighbourhood     0\n",
       "Scholarship       0\n",
       "Hipertension      0\n",
       "Diabetes          0\n",
       "Alcoholism        0\n",
       "Handcap           0\n",
       "SMS_received      0\n",
       "No-show           0\n",
       "dtype: int64"
      ]
     },
     "execution_count": 14,
     "metadata": {},
     "output_type": "execute_result"
    }
   ],
   "source": [
    "# check for null values\n",
    "\n",
    "df.isnull().sum()"
   ]
  },
  {
   "cell_type": "code",
   "execution_count": 15,
   "metadata": {},
   "outputs": [
    {
     "data": {
      "text/plain": [
       "0"
      ]
     },
     "execution_count": 15,
     "metadata": {},
     "output_type": "execute_result"
    }
   ],
   "source": [
    "# check for duplicate rows\n",
    "\n",
    "df.duplicated().sum()"
   ]
  },
  {
   "cell_type": "code",
   "execution_count": 16,
   "metadata": {},
   "outputs": [
    {
     "data": {
      "text/plain": [
       "48228"
      ]
     },
     "execution_count": 16,
     "metadata": {},
     "output_type": "execute_result"
    }
   ],
   "source": [
    "# check number of PatientIds that appear more than once\n",
    "\n",
    "df.PatientId.duplicated().sum()"
   ]
  },
  {
   "cell_type": "code",
   "execution_count": 17,
   "metadata": {},
   "outputs": [
    {
     "data": {
      "text/plain": [
       "38710"
      ]
     },
     "execution_count": 17,
     "metadata": {},
     "output_type": "execute_result"
    }
   ],
   "source": [
    "# check how many of the duplicated PatientIds also have duplicated No-show results\n",
    "# remove during cleaning to avoid over/under inflation of statistics\n",
    "\n",
    "df[['PatientId', 'No-show']].duplicated().sum()"
   ]
  },
  {
   "cell_type": "code",
   "execution_count": 18,
   "metadata": {},
   "outputs": [
    {
     "data": {
      "text/plain": [
       "PatientId          62299\n",
       "AppointmentID     110527\n",
       "Gender                 2\n",
       "ScheduledDay      103549\n",
       "AppointmentDay        27\n",
       "Age                  104\n",
       "Neighbourhood         81\n",
       "Scholarship            2\n",
       "Hipertension           2\n",
       "Diabetes               2\n",
       "Alcoholism             2\n",
       "Handcap                5\n",
       "SMS_received           2\n",
       "No-show                2\n",
       "dtype: int64"
      ]
     },
     "execution_count": 18,
     "metadata": {},
     "output_type": "execute_result"
    }
   ],
   "source": [
    "# check the number of unique values in each column\n",
    "\n",
    "df.nunique()\n",
    "\n",
    "# observations: More AppointmentIds than unique PatientIds. More ScheduledDays than AppointmentDays. \n",
    "#               Age has 104 unique values. Handcap has 5 unique values, not 2. "
   ]
  },
  {
   "cell_type": "markdown",
   "metadata": {},
   "source": [
    "### Create: Rough Analysis Dataframe"
   ]
  },
  {
   "cell_type": "code",
   "execution_count": 19,
   "metadata": {},
   "outputs": [
    {
     "data": {
      "text/html": [
       "<div>\n",
       "<style scoped>\n",
       "    .dataframe tbody tr th:only-of-type {\n",
       "        vertical-align: middle;\n",
       "    }\n",
       "\n",
       "    .dataframe tbody tr th {\n",
       "        vertical-align: top;\n",
       "    }\n",
       "\n",
       "    .dataframe thead th {\n",
       "        text-align: right;\n",
       "    }\n",
       "</style>\n",
       "<table border=\"1\" class=\"dataframe\">\n",
       "  <thead>\n",
       "    <tr style=\"text-align: right;\">\n",
       "      <th></th>\n",
       "      <th>PatientId</th>\n",
       "      <th>AppointmentID</th>\n",
       "      <th>ScheduledDay</th>\n",
       "      <th>AppointmentDay</th>\n",
       "      <th>SMS_received</th>\n",
       "      <th>No-show</th>\n",
       "    </tr>\n",
       "  </thead>\n",
       "  <tbody>\n",
       "    <tr>\n",
       "      <th>0</th>\n",
       "      <td>2.987250e+13</td>\n",
       "      <td>5642903</td>\n",
       "      <td>2016-04-29T18:38:08Z</td>\n",
       "      <td>2016-04-29T00:00:00Z</td>\n",
       "      <td>0</td>\n",
       "      <td>No</td>\n",
       "    </tr>\n",
       "    <tr>\n",
       "      <th>1</th>\n",
       "      <td>5.589978e+14</td>\n",
       "      <td>5642503</td>\n",
       "      <td>2016-04-29T16:08:27Z</td>\n",
       "      <td>2016-04-29T00:00:00Z</td>\n",
       "      <td>0</td>\n",
       "      <td>No</td>\n",
       "    </tr>\n",
       "    <tr>\n",
       "      <th>2</th>\n",
       "      <td>4.262962e+12</td>\n",
       "      <td>5642549</td>\n",
       "      <td>2016-04-29T16:19:04Z</td>\n",
       "      <td>2016-04-29T00:00:00Z</td>\n",
       "      <td>0</td>\n",
       "      <td>No</td>\n",
       "    </tr>\n",
       "    <tr>\n",
       "      <th>3</th>\n",
       "      <td>8.679512e+11</td>\n",
       "      <td>5642828</td>\n",
       "      <td>2016-04-29T17:29:31Z</td>\n",
       "      <td>2016-04-29T00:00:00Z</td>\n",
       "      <td>0</td>\n",
       "      <td>No</td>\n",
       "    </tr>\n",
       "    <tr>\n",
       "      <th>4</th>\n",
       "      <td>8.841186e+12</td>\n",
       "      <td>5642494</td>\n",
       "      <td>2016-04-29T16:07:23Z</td>\n",
       "      <td>2016-04-29T00:00:00Z</td>\n",
       "      <td>0</td>\n",
       "      <td>No</td>\n",
       "    </tr>\n",
       "  </tbody>\n",
       "</table>\n",
       "</div>"
      ],
      "text/plain": [
       "      PatientId  AppointmentID          ScheduledDay        AppointmentDay  \\\n",
       "0  2.987250e+13        5642903  2016-04-29T18:38:08Z  2016-04-29T00:00:00Z   \n",
       "1  5.589978e+14        5642503  2016-04-29T16:08:27Z  2016-04-29T00:00:00Z   \n",
       "2  4.262962e+12        5642549  2016-04-29T16:19:04Z  2016-04-29T00:00:00Z   \n",
       "3  8.679512e+11        5642828  2016-04-29T17:29:31Z  2016-04-29T00:00:00Z   \n",
       "4  8.841186e+12        5642494  2016-04-29T16:07:23Z  2016-04-29T00:00:00Z   \n",
       "\n",
       "   SMS_received No-show  \n",
       "0             0      No  \n",
       "1             0      No  \n",
       "2             0      No  \n",
       "3             0      No  \n",
       "4             0      No  "
      ]
     },
     "execution_count": 19,
     "metadata": {},
     "output_type": "execute_result"
    }
   ],
   "source": [
    "# create smaller and revelant dataframe for analysis\n",
    "\n",
    "df = df[['PatientId', 'AppointmentID','ScheduledDay', 'AppointmentDay', 'SMS_received', 'No-show']].copy()\n",
    "\n",
    "df.head()"
   ]
  },
  {
   "cell_type": "markdown",
   "metadata": {},
   "source": [
    "### Conversions: Datetime, (0,1) to Yes/No"
   ]
  },
  {
   "cell_type": "code",
   "execution_count": 20,
   "metadata": {},
   "outputs": [],
   "source": [
    "# convert ScheduledDay from str to datetime\n",
    "\n",
    "df['ScheduledDay'] = pd.to_datetime(df['ScheduledDay'])"
   ]
  },
  {
   "cell_type": "code",
   "execution_count": 21,
   "metadata": {},
   "outputs": [],
   "source": [
    "# convert AppointmentDay from str to datetime\n",
    "\n",
    "df['AppointmentDay'] = pd.to_datetime(df['AppointmentDay'])"
   ]
  },
  {
   "cell_type": "code",
   "execution_count": 22,
   "metadata": {},
   "outputs": [
    {
     "data": {
      "text/plain": [
       "ScheduledDay      datetime64[ns]\n",
       "AppointmentDay    datetime64[ns]\n",
       "dtype: object"
      ]
     },
     "execution_count": 22,
     "metadata": {},
     "output_type": "execute_result"
    }
   ],
   "source": [
    "# confirm datetime conversions\n",
    "\n",
    "df[['ScheduledDay', 'AppointmentDay']].dtypes"
   ]
  },
  {
   "cell_type": "code",
   "execution_count": 23,
   "metadata": {},
   "outputs": [],
   "source": [
    "# split ScheduledDay into date and time, add to dataframe as separate columns\n",
    "\n",
    "df['date_scheduled'] = pd.to_datetime(df['ScheduledDay']).dt.date\n",
    "df['time_scheduled'] = pd.to_datetime(df['ScheduledDay']).dt.time"
   ]
  },
  {
   "cell_type": "code",
   "execution_count": 24,
   "metadata": {},
   "outputs": [],
   "source": [
    "# split AppointmentDay into date and time, add to dataframe as separate columns\n",
    "\n",
    "df['appt_day'] = pd.to_datetime(df['AppointmentDay']).dt.date \n",
    "df['appt_time'] = pd.to_datetime(df['AppointmentDay']).dt.time"
   ]
  },
  {
   "cell_type": "code",
   "execution_count": 25,
   "metadata": {},
   "outputs": [],
   "source": [
    "# create weekday column for AppointmentDay\n",
    "\n",
    "df['weekday'] = pd.to_datetime(df['AppointmentDay']).dt.day_name()"
   ]
  },
  {
   "cell_type": "code",
   "execution_count": 26,
   "metadata": {},
   "outputs": [],
   "source": [
    "# converts 0,1 boolean to Yes, No str\n",
    "df['SMS_received'] = df['SMS_received'].map({True:'Yes' ,False:'No'})\n",
    "\n",
    "\n",
    "# https://www.geeksforgeeks.org/replace-the-column-contains-the-values-yes-and-no-with-true-and-false-in-python-pandas/"
   ]
  },
  {
   "cell_type": "code",
   "execution_count": 27,
   "metadata": {},
   "outputs": [
    {
     "data": {
      "text/html": [
       "<div>\n",
       "<style scoped>\n",
       "    .dataframe tbody tr th:only-of-type {\n",
       "        vertical-align: middle;\n",
       "    }\n",
       "\n",
       "    .dataframe tbody tr th {\n",
       "        vertical-align: top;\n",
       "    }\n",
       "\n",
       "    .dataframe thead th {\n",
       "        text-align: right;\n",
       "    }\n",
       "</style>\n",
       "<table border=\"1\" class=\"dataframe\">\n",
       "  <thead>\n",
       "    <tr style=\"text-align: right;\">\n",
       "      <th></th>\n",
       "      <th>PatientId</th>\n",
       "      <th>AppointmentID</th>\n",
       "      <th>ScheduledDay</th>\n",
       "      <th>AppointmentDay</th>\n",
       "      <th>SMS_received</th>\n",
       "      <th>No-show</th>\n",
       "      <th>date_scheduled</th>\n",
       "      <th>time_scheduled</th>\n",
       "      <th>appt_day</th>\n",
       "      <th>appt_time</th>\n",
       "      <th>weekday</th>\n",
       "    </tr>\n",
       "  </thead>\n",
       "  <tbody>\n",
       "    <tr>\n",
       "      <th>0</th>\n",
       "      <td>2.987250e+13</td>\n",
       "      <td>5642903</td>\n",
       "      <td>2016-04-29 18:38:08</td>\n",
       "      <td>2016-04-29</td>\n",
       "      <td>No</td>\n",
       "      <td>No</td>\n",
       "      <td>2016-04-29</td>\n",
       "      <td>18:38:08</td>\n",
       "      <td>2016-04-29</td>\n",
       "      <td>00:00:00</td>\n",
       "      <td>Friday</td>\n",
       "    </tr>\n",
       "  </tbody>\n",
       "</table>\n",
       "</div>"
      ],
      "text/plain": [
       "      PatientId  AppointmentID        ScheduledDay AppointmentDay  \\\n",
       "0  2.987250e+13        5642903 2016-04-29 18:38:08     2016-04-29   \n",
       "\n",
       "  SMS_received No-show date_scheduled time_scheduled    appt_day appt_time  \\\n",
       "0           No      No     2016-04-29       18:38:08  2016-04-29  00:00:00   \n",
       "\n",
       "  weekday  \n",
       "0  Friday  "
      ]
     },
     "execution_count": 27,
     "metadata": {},
     "output_type": "execute_result"
    }
   ],
   "source": [
    "# check on split and added columns\n",
    "\n",
    "df.head(1)"
   ]
  },
  {
   "cell_type": "markdown",
   "metadata": {},
   "source": [
    "### Streamline Analysis Dataframe"
   ]
  },
  {
   "cell_type": "code",
   "execution_count": 28,
   "metadata": {},
   "outputs": [],
   "source": [
    "# drop columns no longer needed\n",
    "\n",
    "df.drop(columns=(['ScheduledDay','AppointmentDay']),inplace=True)"
   ]
  },
  {
   "cell_type": "code",
   "execution_count": 29,
   "metadata": {},
   "outputs": [],
   "source": [
    "# reorder columns to be more intuitive\n",
    "\n",
    "df = df[['PatientId', 'AppointmentID', 'date_scheduled', 'time_scheduled', 'SMS_received',\n",
    "        'appt_day', 'appt_time', 'weekday', 'No-show' ]]"
   ]
  },
  {
   "cell_type": "code",
   "execution_count": 30,
   "metadata": {},
   "outputs": [
    {
     "data": {
      "text/html": [
       "<div>\n",
       "<style scoped>\n",
       "    .dataframe tbody tr th:only-of-type {\n",
       "        vertical-align: middle;\n",
       "    }\n",
       "\n",
       "    .dataframe tbody tr th {\n",
       "        vertical-align: top;\n",
       "    }\n",
       "\n",
       "    .dataframe thead th {\n",
       "        text-align: right;\n",
       "    }\n",
       "</style>\n",
       "<table border=\"1\" class=\"dataframe\">\n",
       "  <thead>\n",
       "    <tr style=\"text-align: right;\">\n",
       "      <th></th>\n",
       "      <th>patient_id</th>\n",
       "      <th>appt_id</th>\n",
       "      <th>date_scheduled</th>\n",
       "      <th>time_scheduled</th>\n",
       "      <th>sms_reminder</th>\n",
       "      <th>appt_day</th>\n",
       "      <th>appt_time</th>\n",
       "      <th>weekday</th>\n",
       "      <th>no_show</th>\n",
       "    </tr>\n",
       "  </thead>\n",
       "  <tbody>\n",
       "    <tr>\n",
       "      <th>0</th>\n",
       "      <td>2.987250e+13</td>\n",
       "      <td>5642903</td>\n",
       "      <td>2016-04-29</td>\n",
       "      <td>18:38:08</td>\n",
       "      <td>No</td>\n",
       "      <td>2016-04-29</td>\n",
       "      <td>00:00:00</td>\n",
       "      <td>Friday</td>\n",
       "      <td>No</td>\n",
       "    </tr>\n",
       "    <tr>\n",
       "      <th>1</th>\n",
       "      <td>5.589978e+14</td>\n",
       "      <td>5642503</td>\n",
       "      <td>2016-04-29</td>\n",
       "      <td>16:08:27</td>\n",
       "      <td>No</td>\n",
       "      <td>2016-04-29</td>\n",
       "      <td>00:00:00</td>\n",
       "      <td>Friday</td>\n",
       "      <td>No</td>\n",
       "    </tr>\n",
       "    <tr>\n",
       "      <th>2</th>\n",
       "      <td>4.262962e+12</td>\n",
       "      <td>5642549</td>\n",
       "      <td>2016-04-29</td>\n",
       "      <td>16:19:04</td>\n",
       "      <td>No</td>\n",
       "      <td>2016-04-29</td>\n",
       "      <td>00:00:00</td>\n",
       "      <td>Friday</td>\n",
       "      <td>No</td>\n",
       "    </tr>\n",
       "  </tbody>\n",
       "</table>\n",
       "</div>"
      ],
      "text/plain": [
       "     patient_id  appt_id date_scheduled time_scheduled sms_reminder  \\\n",
       "0  2.987250e+13  5642903     2016-04-29       18:38:08           No   \n",
       "1  5.589978e+14  5642503     2016-04-29       16:08:27           No   \n",
       "2  4.262962e+12  5642549     2016-04-29       16:19:04           No   \n",
       "\n",
       "     appt_day appt_time weekday no_show  \n",
       "0  2016-04-29  00:00:00  Friday      No  \n",
       "1  2016-04-29  00:00:00  Friday      No  \n",
       "2  2016-04-29  00:00:00  Friday      No  "
      ]
     },
     "execution_count": 30,
     "metadata": {},
     "output_type": "execute_result"
    }
   ],
   "source": [
    "# use underscore and lower case naming conventions for all column names and rename SMS_received for clarification\n",
    "\n",
    "df.rename(columns = {'PatientId':'patient_id', \n",
    "                     'AppointmentID':'appt_id', \n",
    "                     'SMS_received':'sms_reminder',\n",
    "                     'No-show':'no_show'}, inplace = True)\n",
    "\n",
    "df.head(3)"
   ]
  },
  {
   "cell_type": "code",
   "execution_count": 31,
   "metadata": {},
   "outputs": [
    {
     "data": {
      "text/plain": [
       "patient_id         62299\n",
       "appt_id           110527\n",
       "date_scheduled       111\n",
       "time_scheduled     37109\n",
       "sms_reminder           2\n",
       "appt_day              27\n",
       "appt_time              1\n",
       "weekday                6\n",
       "no_show                2\n",
       "dtype: int64"
      ]
     },
     "execution_count": 31,
     "metadata": {},
     "output_type": "execute_result"
    }
   ],
   "source": [
    "# check unique values for current df\n",
    "\n",
    "df.nunique()\n",
    "\n",
    "# observation: appt_time only has one value; investigate and remove time columns if irrelevant."
   ]
  },
  {
   "cell_type": "code",
   "execution_count": 32,
   "metadata": {},
   "outputs": [
    {
     "data": {
      "text/plain": [
       "00:00:00    110527\n",
       "Name: appt_time, dtype: int64"
      ]
     },
     "execution_count": 32,
     "metadata": {},
     "output_type": "execute_result"
    }
   ],
   "source": [
    "# explore appt_time; confirm single time value\n",
    "\n",
    "df['appt_time'].value_counts()"
   ]
  },
  {
   "cell_type": "markdown",
   "metadata": {},
   "source": [
    "The [No Show](https://www.kaggle.com/datasets/joniarroba/noshowappointments/discussion/340475) dataset's information page was reveiwed for information on this anomaly. The single value for appt_time makes time columns irrelevant for the analysis and need to be removed."
   ]
  },
  {
   "cell_type": "code",
   "execution_count": 33,
   "metadata": {},
   "outputs": [
    {
     "data": {
      "text/html": [
       "<div>\n",
       "<style scoped>\n",
       "    .dataframe tbody tr th:only-of-type {\n",
       "        vertical-align: middle;\n",
       "    }\n",
       "\n",
       "    .dataframe tbody tr th {\n",
       "        vertical-align: top;\n",
       "    }\n",
       "\n",
       "    .dataframe thead th {\n",
       "        text-align: right;\n",
       "    }\n",
       "</style>\n",
       "<table border=\"1\" class=\"dataframe\">\n",
       "  <thead>\n",
       "    <tr style=\"text-align: right;\">\n",
       "      <th></th>\n",
       "      <th>patient_id</th>\n",
       "      <th>appt_id</th>\n",
       "      <th>sms_reminder</th>\n",
       "      <th>appt_day</th>\n",
       "      <th>weekday</th>\n",
       "      <th>no_show</th>\n",
       "    </tr>\n",
       "  </thead>\n",
       "  <tbody>\n",
       "    <tr>\n",
       "      <th>0</th>\n",
       "      <td>2.987250e+13</td>\n",
       "      <td>5642903</td>\n",
       "      <td>No</td>\n",
       "      <td>2016-04-29</td>\n",
       "      <td>Friday</td>\n",
       "      <td>No</td>\n",
       "    </tr>\n",
       "  </tbody>\n",
       "</table>\n",
       "</div>"
      ],
      "text/plain": [
       "     patient_id  appt_id sms_reminder    appt_day weekday no_show\n",
       "0  2.987250e+13  5642903           No  2016-04-29  Friday      No"
      ]
     },
     "execution_count": 33,
     "metadata": {},
     "output_type": "execute_result"
    }
   ],
   "source": [
    "# drop time_scheduled and appt_time columns; no longer relevant; can also date_scheduled\n",
    "\n",
    "df.drop(columns=(['date_scheduled', 'time_scheduled','appt_time']),inplace=True)\n",
    "\n",
    "\n",
    "df.head(1)"
   ]
  },
  {
   "cell_type": "markdown",
   "metadata": {},
   "source": [
    "### Create: Main Analysis Dataframe"
   ]
  },
  {
   "cell_type": "code",
   "execution_count": 34,
   "metadata": {},
   "outputs": [],
   "source": [
    "# create and save main analysis (basic structure) as csv backup with new name\n",
    "\n",
    "df.to_csv('df_main_ns_backup.csv', index = False)"
   ]
  },
  {
   "cell_type": "markdown",
   "metadata": {},
   "source": [
    "## Data Cleaning"
   ]
  },
  {
   "cell_type": "code",
   "execution_count": 35,
   "metadata": {},
   "outputs": [
    {
     "name": "stdout",
     "output_type": "stream",
     "text": [
      "<class 'pandas.core.frame.DataFrame'>\n",
      "RangeIndex: 110527 entries, 0 to 110526\n",
      "Data columns (total 6 columns):\n",
      "patient_id      110527 non-null float64\n",
      "appt_id         110527 non-null int64\n",
      "sms_reminder    110527 non-null object\n",
      "appt_day        110527 non-null object\n",
      "weekday         110527 non-null object\n",
      "no_show         110527 non-null object\n",
      "dtypes: float64(1), int64(1), object(4)\n",
      "memory usage: 5.1+ MB\n"
     ]
    }
   ],
   "source": [
    "# inspect main analysis dataframe\n",
    "\n",
    "df.info()"
   ]
  },
  {
   "cell_type": "code",
   "execution_count": 36,
   "metadata": {},
   "outputs": [
    {
     "data": {
      "text/plain": [
       "0"
      ]
     },
     "execution_count": 36,
     "metadata": {},
     "output_type": "execute_result"
    }
   ],
   "source": [
    "# check for duplicates in analysis dataframe\n",
    "\n",
    "df.duplicated().sum()"
   ]
  },
  {
   "cell_type": "markdown",
   "metadata": {},
   "source": [
    "#### Remove duplicates - rows (cleaning)"
   ]
  },
  {
   "cell_type": "code",
   "execution_count": 37,
   "metadata": {},
   "outputs": [],
   "source": [
    "# drop the PatientId, No-show duplicates to avoid under/over inflating of no show statistics\n",
    "\n",
    "df.drop_duplicates(['patient_id','no_show'],inplace=True)"
   ]
  },
  {
   "cell_type": "code",
   "execution_count": 38,
   "metadata": {},
   "outputs": [],
   "source": [
    "# now that patient_id and no_show duplicates are dropped remove patient_id; remove appt_day, not needed.\n",
    "\n",
    "df.drop(columns=(['patient_id', 'appt_day']),inplace=True)"
   ]
  },
  {
   "cell_type": "code",
   "execution_count": 39,
   "metadata": {},
   "outputs": [
    {
     "data": {
      "text/html": [
       "<div>\n",
       "<style scoped>\n",
       "    .dataframe tbody tr th:only-of-type {\n",
       "        vertical-align: middle;\n",
       "    }\n",
       "\n",
       "    .dataframe tbody tr th {\n",
       "        vertical-align: top;\n",
       "    }\n",
       "\n",
       "    .dataframe thead th {\n",
       "        text-align: right;\n",
       "    }\n",
       "</style>\n",
       "<table border=\"1\" class=\"dataframe\">\n",
       "  <thead>\n",
       "    <tr style=\"text-align: right;\">\n",
       "      <th></th>\n",
       "      <th>appt_id</th>\n",
       "      <th>sms_reminder</th>\n",
       "      <th>weekday</th>\n",
       "      <th>no_show</th>\n",
       "    </tr>\n",
       "  </thead>\n",
       "  <tbody>\n",
       "    <tr>\n",
       "      <th>0</th>\n",
       "      <td>5642903</td>\n",
       "      <td>No</td>\n",
       "      <td>Friday</td>\n",
       "      <td>No</td>\n",
       "    </tr>\n",
       "  </tbody>\n",
       "</table>\n",
       "</div>"
      ],
      "text/plain": [
       "   appt_id sms_reminder weekday no_show\n",
       "0  5642903           No  Friday      No"
      ]
     },
     "execution_count": 39,
     "metadata": {},
     "output_type": "execute_result"
    }
   ],
   "source": [
    "df.head(1)"
   ]
  },
  {
   "cell_type": "code",
   "execution_count": null,
   "metadata": {},
   "outputs": [],
   "source": [
    "df.to_csv('df_exploratory_backup.csv')"
   ]
  },
  {
   "cell_type": "code",
   "execution_count": 2,
   "metadata": {},
   "outputs": [],
   "source": [
    "df = pd.read_csv('df_exploratory_backup.csv')"
   ]
  },
  {
   "cell_type": "code",
   "execution_count": 40,
   "metadata": {},
   "outputs": [
    {
     "data": {
      "text/plain": [
       "appt_id         71817\n",
       "sms_reminder        2\n",
       "weekday             6\n",
       "no_show             2\n",
       "dtype: int64"
      ]
     },
     "execution_count": 40,
     "metadata": {},
     "output_type": "execute_result"
    }
   ],
   "source": [
    "# check unique values in main analysis dataframe\n",
    "\n",
    "df.nunique()\n",
    "\n",
    "# observation: appointments take place 6 days a week. "
   ]
  },
  {
   "cell_type": "code",
   "execution_count": 41,
   "metadata": {},
   "outputs": [
    {
     "data": {
      "text/plain": [
       "Tuesday      17089\n",
       "Wednesday    15936\n",
       "Monday       15108\n",
       "Friday       12598\n",
       "Thursday     11058\n",
       "Saturday        28\n",
       "Name: weekday, dtype: int64"
      ]
     },
     "execution_count": 41,
     "metadata": {},
     "output_type": "execute_result"
    }
   ],
   "source": [
    "# explore weekday\n",
    "\n",
    "df['weekday'].value_counts()\n",
    "\n",
    "# observations: Sunday is missing and Saturday has a significantly lower appointment count"
   ]
  },
  {
   "cell_type": "markdown",
   "metadata": {},
   "source": [
    "Note: [Sunday](https://www2.deloitte.com/br/en/pages/living-and-working/articles/labor-relations.html) is normally a day off in Brazil and work is normally limited to [4 hours](https://thebrazilbusiness.com/article/brazilian-employment-law-in-a-nutshell) on Saturday. "
   ]
  },
  {
   "cell_type": "markdown",
   "metadata": {},
   "source": [
    "<a id='eda'></a>\n",
    "## Exploratory Data Analysis"
   ]
  },
  {
   "cell_type": "markdown",
   "metadata": {},
   "source": [
    "#### Exploration: Total Values"
   ]
  },
  {
   "cell_type": "code",
   "execution_count": 3,
   "metadata": {},
   "outputs": [],
   "source": [
    "# Create: df of total statistics by weekday, displaying appt_id, sms_reminder and no_show columns.\n",
    "\n",
    "df_all_appt = df[['appt_id','sms_reminder', 'weekday','no_show']].copy().set_index('weekday')"
   ]
  },
  {
   "cell_type": "code",
   "execution_count": 43,
   "metadata": {},
   "outputs": [
    {
     "name": "stdout",
     "output_type": "stream",
     "text": [
      "\n",
      "Total Appt ID, SMS & No Show Values\n",
      "  By Weekday\n"
     ]
    },
    {
     "data": {
      "text/html": [
       "<div>\n",
       "<style scoped>\n",
       "    .dataframe tbody tr th:only-of-type {\n",
       "        vertical-align: middle;\n",
       "    }\n",
       "\n",
       "    .dataframe tbody tr th {\n",
       "        vertical-align: top;\n",
       "    }\n",
       "\n",
       "    .dataframe thead th {\n",
       "        text-align: right;\n",
       "    }\n",
       "</style>\n",
       "<table border=\"1\" class=\"dataframe\">\n",
       "  <thead>\n",
       "    <tr style=\"text-align: right;\">\n",
       "      <th></th>\n",
       "      <th>appt_id</th>\n",
       "      <th>sms_reminder</th>\n",
       "      <th>no_show</th>\n",
       "    </tr>\n",
       "    <tr>\n",
       "      <th>weekday</th>\n",
       "      <th></th>\n",
       "      <th></th>\n",
       "      <th></th>\n",
       "    </tr>\n",
       "  </thead>\n",
       "  <tbody>\n",
       "    <tr>\n",
       "      <th>Friday</th>\n",
       "      <td>5642903</td>\n",
       "      <td>No</td>\n",
       "      <td>No</td>\n",
       "    </tr>\n",
       "    <tr>\n",
       "      <th>Friday</th>\n",
       "      <td>5642503</td>\n",
       "      <td>No</td>\n",
       "      <td>No</td>\n",
       "    </tr>\n",
       "    <tr>\n",
       "      <th>Friday</th>\n",
       "      <td>5642549</td>\n",
       "      <td>No</td>\n",
       "      <td>No</td>\n",
       "    </tr>\n",
       "    <tr>\n",
       "      <th>Friday</th>\n",
       "      <td>5642828</td>\n",
       "      <td>No</td>\n",
       "      <td>No</td>\n",
       "    </tr>\n",
       "    <tr>\n",
       "      <th>Friday</th>\n",
       "      <td>5642494</td>\n",
       "      <td>No</td>\n",
       "      <td>No</td>\n",
       "    </tr>\n",
       "  </tbody>\n",
       "</table>\n",
       "</div>"
      ],
      "text/plain": [
       "         appt_id sms_reminder no_show\n",
       "weekday                              \n",
       "Friday   5642903           No      No\n",
       "Friday   5642503           No      No\n",
       "Friday   5642549           No      No\n",
       "Friday   5642828           No      No\n",
       "Friday   5642494           No      No"
      ]
     },
     "execution_count": 43,
     "metadata": {},
     "output_type": "execute_result"
    }
   ],
   "source": [
    "print('\\nTotal Appt ID, SMS & No Show Values\\n  By Weekday')\n",
    "\n",
    "df_all_appt.head()"
   ]
  },
  {
   "cell_type": "code",
   "execution_count": 4,
   "metadata": {},
   "outputs": [],
   "source": [
    "# Create: further breakdown and \"dummies\" for yes/no values (boolean)\n",
    "\n",
    "df_all = df[['appt_id', 'sms_reminder','no_show']].copy()\n",
    "\n",
    "# create get_dummies breakdown by appt_id for sms received (y/n) and no show (y/s)\n",
    "df_all_yn = pd.get_dummies(df_all.set_index('appt_id')).sum(level=0)\n",
    "\n",
    "#renaming columns to be more descriptive of content\n",
    "df_all_yn.rename(columns = {'sms_reminder_No':'no_sms', \n",
    "                     'sms_reminder_Yes':'recd_sms', \n",
    "                     'no_show_No':'kept_appt',\n",
    "                     'no_show_Yes':'no_show'}, inplace = True)"
   ]
  },
  {
   "cell_type": "code",
   "execution_count": 45,
   "metadata": {},
   "outputs": [
    {
     "name": "stdout",
     "output_type": "stream",
     "text": [
      "\n",
      "Total SMS & No Show Values\n",
      "  Separated into Yes/No columns by Appoitment Id\n",
      "  (True = 1, False = 0)\n"
     ]
    },
    {
     "data": {
      "text/html": [
       "<div>\n",
       "<style scoped>\n",
       "    .dataframe tbody tr th:only-of-type {\n",
       "        vertical-align: middle;\n",
       "    }\n",
       "\n",
       "    .dataframe tbody tr th {\n",
       "        vertical-align: top;\n",
       "    }\n",
       "\n",
       "    .dataframe thead th {\n",
       "        text-align: right;\n",
       "    }\n",
       "</style>\n",
       "<table border=\"1\" class=\"dataframe\">\n",
       "  <thead>\n",
       "    <tr style=\"text-align: right;\">\n",
       "      <th></th>\n",
       "      <th>no_sms</th>\n",
       "      <th>recd_sms</th>\n",
       "      <th>kept_appt</th>\n",
       "      <th>no_show</th>\n",
       "    </tr>\n",
       "    <tr>\n",
       "      <th>appt_id</th>\n",
       "      <th></th>\n",
       "      <th></th>\n",
       "      <th></th>\n",
       "      <th></th>\n",
       "    </tr>\n",
       "  </thead>\n",
       "  <tbody>\n",
       "    <tr>\n",
       "      <th>5642903</th>\n",
       "      <td>1</td>\n",
       "      <td>0</td>\n",
       "      <td>1</td>\n",
       "      <td>0</td>\n",
       "    </tr>\n",
       "    <tr>\n",
       "      <th>5642503</th>\n",
       "      <td>1</td>\n",
       "      <td>0</td>\n",
       "      <td>1</td>\n",
       "      <td>0</td>\n",
       "    </tr>\n",
       "    <tr>\n",
       "      <th>5642549</th>\n",
       "      <td>1</td>\n",
       "      <td>0</td>\n",
       "      <td>1</td>\n",
       "      <td>0</td>\n",
       "    </tr>\n",
       "    <tr>\n",
       "      <th>5642828</th>\n",
       "      <td>1</td>\n",
       "      <td>0</td>\n",
       "      <td>1</td>\n",
       "      <td>0</td>\n",
       "    </tr>\n",
       "    <tr>\n",
       "      <th>5642494</th>\n",
       "      <td>1</td>\n",
       "      <td>0</td>\n",
       "      <td>1</td>\n",
       "      <td>0</td>\n",
       "    </tr>\n",
       "  </tbody>\n",
       "</table>\n",
       "</div>"
      ],
      "text/plain": [
       "         no_sms  recd_sms  kept_appt  no_show\n",
       "appt_id                                      \n",
       "5642903       1         0          1        0\n",
       "5642503       1         0          1        0\n",
       "5642549       1         0          1        0\n",
       "5642828       1         0          1        0\n",
       "5642494       1         0          1        0"
      ]
     },
     "execution_count": 45,
     "metadata": {},
     "output_type": "execute_result"
    }
   ],
   "source": [
    "print('\\nTotal SMS & No Show Values\\n  Separated into Yes/No columns by Appoitment Id\\n  (True = 1, False = 0)')\n",
    "\n",
    "df_all_yn.head()"
   ]
  },
  {
   "cell_type": "code",
   "execution_count": 5,
   "metadata": {},
   "outputs": [],
   "source": [
    "# Creation: SMS/No SMS and Showed/No Show totals by day\n",
    "\n",
    "df_all_table = df[['weekday', 'sms_reminder','no_show']].copy()\n",
    "\n",
    "# create get_dummies breakdown by appt_id for sms received (y/n) and no show (y/s)\n",
    "df_all_yn_table = pd.get_dummies(df_all_table.set_index('weekday')).sum(level=0)\n",
    "\n",
    "#renaming columns to be more descriptive of content\n",
    "df_all_yn_table.rename(columns = {'sms_reminder_No':'no_sms', \n",
    "                     'sms_reminder_Yes':'recd_sms', \n",
    "                     'no_show_No':'kept_appt',\n",
    "                     'no_show_Yes':'no_show'}, inplace = True)"
   ]
  },
  {
   "cell_type": "code",
   "execution_count": 47,
   "metadata": {},
   "outputs": [
    {
     "data": {
      "text/html": [
       "<div>\n",
       "<style scoped>\n",
       "    .dataframe tbody tr th:only-of-type {\n",
       "        vertical-align: middle;\n",
       "    }\n",
       "\n",
       "    .dataframe tbody tr th {\n",
       "        vertical-align: top;\n",
       "    }\n",
       "\n",
       "    .dataframe thead th {\n",
       "        text-align: right;\n",
       "    }\n",
       "</style>\n",
       "<table border=\"1\" class=\"dataframe\">\n",
       "  <thead>\n",
       "    <tr style=\"text-align: right;\">\n",
       "      <th></th>\n",
       "      <th>no_sms</th>\n",
       "      <th>recd_sms</th>\n",
       "      <th>kept_appt</th>\n",
       "      <th>no_show</th>\n",
       "    </tr>\n",
       "    <tr>\n",
       "      <th>weekday</th>\n",
       "      <th></th>\n",
       "      <th></th>\n",
       "      <th></th>\n",
       "      <th></th>\n",
       "    </tr>\n",
       "  </thead>\n",
       "  <tbody>\n",
       "    <tr>\n",
       "      <th>Friday</th>\n",
       "      <td>9505.0</td>\n",
       "      <td>3093.0</td>\n",
       "      <td>9383.0</td>\n",
       "      <td>3215.0</td>\n",
       "    </tr>\n",
       "    <tr>\n",
       "      <th>Tuesday</th>\n",
       "      <td>9925.0</td>\n",
       "      <td>7164.0</td>\n",
       "      <td>13014.0</td>\n",
       "      <td>4075.0</td>\n",
       "    </tr>\n",
       "    <tr>\n",
       "      <th>Monday</th>\n",
       "      <td>10314.0</td>\n",
       "      <td>4794.0</td>\n",
       "      <td>11305.0</td>\n",
       "      <td>3803.0</td>\n",
       "    </tr>\n",
       "    <tr>\n",
       "      <th>Wednesday</th>\n",
       "      <td>10168.0</td>\n",
       "      <td>5768.0</td>\n",
       "      <td>12032.0</td>\n",
       "      <td>3904.0</td>\n",
       "    </tr>\n",
       "    <tr>\n",
       "      <th>Thursday</th>\n",
       "      <td>7787.0</td>\n",
       "      <td>3271.0</td>\n",
       "      <td>8398.0</td>\n",
       "      <td>2660.0</td>\n",
       "    </tr>\n",
       "    <tr>\n",
       "      <th>Saturday</th>\n",
       "      <td>19.0</td>\n",
       "      <td>9.0</td>\n",
       "      <td>22.0</td>\n",
       "      <td>6.0</td>\n",
       "    </tr>\n",
       "  </tbody>\n",
       "</table>\n",
       "</div>"
      ],
      "text/plain": [
       "            no_sms  recd_sms  kept_appt  no_show\n",
       "weekday                                         \n",
       "Friday      9505.0    3093.0     9383.0   3215.0\n",
       "Tuesday     9925.0    7164.0    13014.0   4075.0\n",
       "Monday     10314.0    4794.0    11305.0   3803.0\n",
       "Wednesday  10168.0    5768.0    12032.0   3904.0\n",
       "Thursday    7787.0    3271.0     8398.0   2660.0\n",
       "Saturday      19.0       9.0       22.0      6.0"
      ]
     },
     "execution_count": 47,
     "metadata": {},
     "output_type": "execute_result"
    }
   ],
   "source": [
    "df_all_yn_table.head(7)"
   ]
  },
  {
   "cell_type": "markdown",
   "metadata": {},
   "source": [
    "I found this discussion helpful\n",
    "\n",
    "[Change df index](https://www.geeksforgeeks.org/how-to-change-index-values-in-pandas/)"
   ]
  },
  {
   "cell_type": "code",
   "execution_count": 6,
   "metadata": {},
   "outputs": [
    {
     "data": {
      "text/plain": [
       "71817"
      ]
     },
     "execution_count": 6,
     "metadata": {},
     "output_type": "execute_result"
    }
   ],
   "source": [
    "# Appointments: total number scheduled\n",
    "\n",
    "total_appts = df_all_appt['appt_id'].count()\n",
    "\n",
    "total_appts"
   ]
  },
  {
   "cell_type": "code",
   "execution_count": 7,
   "metadata": {},
   "outputs": [
    {
     "data": {
      "text/plain": [
       "17663"
      ]
     },
     "execution_count": 7,
     "metadata": {},
     "output_type": "execute_result"
    }
   ],
   "source": [
    "# No Shows:  total number of patients who No Showed\n",
    "\n",
    "total_ns =  df_all_appt['no_show'].value_counts()['Yes']\n",
    "\n",
    "total_ns"
   ]
  },
  {
   "cell_type": "code",
   "execution_count": 8,
   "metadata": {},
   "outputs": [
    {
     "data": {
      "text/plain": [
       "54154"
      ]
     },
     "execution_count": 8,
     "metadata": {},
     "output_type": "execute_result"
    }
   ],
   "source": [
    "# Showed: total number of patients who showed\n",
    "\n",
    "total_showed = total_appts - total_ns\n",
    "\n",
    "total_showed"
   ]
  },
  {
   "cell_type": "code",
   "execution_count": 9,
   "metadata": {},
   "outputs": [
    {
     "data": {
      "text/plain": [
       "16096"
      ]
     },
     "execution_count": 9,
     "metadata": {},
     "output_type": "execute_result"
    }
   ],
   "source": [
    "# Showed with SMS Reminders: total number of kept appointments that also received an sms reminder\n",
    "# Create: df with only showed\n",
    "# Then, drill down to find patients who also received an sms reminder\n",
    "\n",
    "show_with_sms1 = (df_all_appt.loc[df_all_appt['no_show'] == 'No']) \n",
    "show_with_sms = (show_with_sms1.loc[show_with_sms1['sms_reminder'] == 'Yes']) \n",
    "\n",
    "total_show_sms_yes = show_with_sms['appt_id'].count()\n",
    "\n",
    "total_show_sms_yes"
   ]
  },
  {
   "cell_type": "code",
   "execution_count": 10,
   "metadata": {},
   "outputs": [
    {
     "data": {
      "text/plain": [
       "38058"
      ]
     },
     "execution_count": 10,
     "metadata": {},
     "output_type": "execute_result"
    }
   ],
   "source": [
    "# Showed and No SMS Reminders: total number of kept appointments that did not receive an SMS reminder\n",
    "# Create: df with only showed\n",
    "# Then, drill down to find patients who did not received an sms reminder\n",
    "\n",
    "show_with_sms1_no = (df_all_appt.loc[df_all_appt['no_show'] == 'No']) \n",
    "show_with_sms_no = (show_with_sms1_no.loc[show_with_sms1_no['sms_reminder'] == 'No']) \n",
    "\n",
    "total_show_sms_no = show_with_sms_no['appt_id'].count()\n",
    "\n",
    "total_show_sms_no"
   ]
  },
  {
   "cell_type": "code",
   "execution_count": 11,
   "metadata": {},
   "outputs": [
    {
     "data": {
      "text/plain": [
       "24099"
      ]
     },
     "execution_count": 11,
     "metadata": {},
     "output_type": "execute_result"
    }
   ],
   "source": [
    "# SMS Received:  total number of patients who received SMS Messages\n",
    "\n",
    "total_sms = df_all_appt['sms_reminder'].value_counts()['Yes']\n",
    "\n",
    "total_sms"
   ]
  },
  {
   "cell_type": "code",
   "execution_count": 12,
   "metadata": {},
   "outputs": [
    {
     "data": {
      "text/plain": [
       "8003"
      ]
     },
     "execution_count": 12,
     "metadata": {},
     "output_type": "execute_result"
    }
   ],
   "source": [
    "# No Shows with SMS Reminders: total number of no show patients that also received an sms reminder\n",
    "# Create: df with only no shows\n",
    "# Then, drill down to find patients who also received an sms reminder\n",
    "\n",
    "ns_with_sms1 = (df_all_appt.loc[df_all_appt['no_show'] == 'Yes']) \n",
    "ns_with_sms = (ns_with_sms1.loc[ns_with_sms1['sms_reminder'] == 'Yes']) \n",
    "\n",
    "total_ns_sms_yes = ns_with_sms['appt_id'].count()\n",
    "\n",
    "total_ns_sms_yes"
   ]
  },
  {
   "cell_type": "code",
   "execution_count": 13,
   "metadata": {},
   "outputs": [
    {
     "data": {
      "text/plain": [
       "9660"
      ]
     },
     "execution_count": 13,
     "metadata": {},
     "output_type": "execute_result"
    }
   ],
   "source": [
    "# No Showed and No SMS Reminders: total number of no show appointments that did not receive an SMS reminder\n",
    "# Create: df with only no showed\n",
    "# Then, drill down to find patients who did not received an sms reminder\n",
    "\n",
    "ns_with_sms1_no = (df_all_appt.loc[df_all_appt['no_show'] == 'Yes']) \n",
    "ns_with_sms_no = (ns_with_sms1_no.loc[ns_with_sms1_no['sms_reminder'] == 'No']) \n",
    "\n",
    "total_ns_sms_no = ns_with_sms_no['appt_id'].count()\n",
    "\n",
    "total_ns_sms_no"
   ]
  },
  {
   "cell_type": "code",
   "execution_count": 14,
   "metadata": {},
   "outputs": [
    {
     "name": "stdout",
     "output_type": "stream",
     "text": [
      "Total No Show: 24.6%\n"
     ]
    }
   ],
   "source": [
    "# No shows: total percent of patients who failed to keep their appt\n",
    "\n",
    "total_perc_ns = total_ns/total_appts\n",
    "\n",
    "print(('Total No Show: {:.1%}').format(total_perc_ns))"
   ]
  },
  {
   "cell_type": "code",
   "execution_count": 15,
   "metadata": {},
   "outputs": [
    {
     "name": "stdout",
     "output_type": "stream",
     "text": [
      "Total Recd SMS: 33.6%\n"
     ]
    }
   ],
   "source": [
    "# SMS Reminder: total percent of patients who recevied an sms reminder\n",
    "\n",
    "total_perc_sms = total_sms/total_appts\n",
    "\n",
    "print(('Total Recd SMS: {:.1%}').format(total_perc_sms))"
   ]
  },
  {
   "cell_type": "code",
   "execution_count": 16,
   "metadata": {},
   "outputs": [
    {
     "name": "stdout",
     "output_type": "stream",
     "text": [
      "Total Showed w/o SMS: 53.0%\n"
     ]
    }
   ],
   "source": [
    "#Total percent of Showed w/o SMS\n",
    "\n",
    "total_perc_show_nosms = (total_show_sms_no / total_appts)\n",
    "print(('Total Showed w/o SMS: {:.1%}').format(total_perc_show_nosms))"
   ]
  },
  {
   "cell_type": "code",
   "execution_count": 17,
   "metadata": {},
   "outputs": [
    {
     "name": "stdout",
     "output_type": "stream",
     "text": [
      "Total Showed w/ SMS: 22.4%\n"
     ]
    }
   ],
   "source": [
    "#Total percent of Showed w/ SMS \n",
    "\n",
    "total_perc_show_sms = (total_show_sms_yes / total_appts)\n",
    "print(('Total Showed w/ SMS: {:.1%}').format(total_perc_show_sms))"
   ]
  },
  {
   "cell_type": "code",
   "execution_count": 18,
   "metadata": {},
   "outputs": [
    {
     "name": "stdout",
     "output_type": "stream",
     "text": [
      "Total No Showed w/o SMS: 54.7%\n"
     ]
    }
   ],
   "source": [
    "# No Shows w/o SMS Reminder: total percent of patients who failed to keep their appt and did not get an sms reminder\n",
    "\n",
    "total_perc_ns_nosms = total_ns_sms_no / total_ns\n",
    "\n",
    "print(('Total No Showed w/o SMS: {:.1%}').format(total_perc_ns_nosms))"
   ]
  },
  {
   "cell_type": "code",
   "execution_count": 19,
   "metadata": {},
   "outputs": [
    {
     "name": "stdout",
     "output_type": "stream",
     "text": [
      "Total No Showed w/ SMS: 45.3%\n"
     ]
    }
   ],
   "source": [
    "# No Shows and SMS Reminder: total percent of patients who failed to keep their appt and got an sms reminder\n",
    "\n",
    "total_perc_ns_sms = total_ns_sms_yes / total_ns\n",
    "\n",
    "print(('Total No Showed w/ SMS: {:.1%}').format(total_perc_ns_sms))"
   ]
  },
  {
   "cell_type": "code",
   "execution_count": 20,
   "metadata": {},
   "outputs": [],
   "source": [
    "# FUNCTION: find overall weekday no show percentage\n",
    "# Can be used with x = individual day or in FUNCTION wkd_ns_perc_all for full summary\n",
    "\n",
    "def wkd_ns_perc(x):\n",
    "    # x = weekday\n",
    "    \n",
    "    # df for no shows by day\n",
    "    ns_yes = len(df[(df['weekday'] == x) & (df['no_show'] == 'Yes')]) \n",
    "    \n",
    "    # no show percent of all appointments\n",
    "    ns_percent_all = ns_yes/71817 #total num of appts\n",
    "     \n",
    "    print(('    {} No Show:{:.1%}').format(x, ns_percent_all))                     "
   ]
  },
  {
   "cell_type": "code",
   "execution_count": 63,
   "metadata": {},
   "outputs": [
    {
     "name": "stdout",
     "output_type": "stream",
     "text": [
      "    Monday No Show:5.3%\n",
      "    Tuesday No Show:5.7%\n",
      "    Wednesday No Show:5.4%\n",
      "    Thursday No Show:3.7%\n",
      "    Friday No Show:4.5%\n",
      "    Saturday No Show:0.0%\n"
     ]
    }
   ],
   "source": [
    "#FUNCTION: weekday no show percentage summary using function wkd_ns_perc\n",
    "\n",
    "def wkd_ns_perc_all():\n",
    "\n",
    "    weekdays = ['Monday', 'Tuesday', 'Wednesday', 'Thursday', 'Friday', 'Saturday']\n",
    "\n",
    "    for x in weekdays:\n",
    "        wkd_ns_perc(x)\n",
    "            \n",
    "wkd_ns_perc_all()"
   ]
  },
  {
   "cell_type": "markdown",
   "metadata": {},
   "source": [
    "#### Function: Total Statistics"
   ]
  },
  {
   "cell_type": "code",
   "execution_count": 64,
   "metadata": {},
   "outputs": [
    {
     "name": "stdout",
     "output_type": "stream",
     "text": [
      "\n",
      "Total Statitics for Appointments:\n",
      "    Total Num Appts: 71817\n",
      "\n",
      "Total No Shows: 17663\n",
      "    Percentage No Shows: 24.6%\n",
      "\n",
      "Total No Show Weekday Percentages:\n",
      "    Monday No Show:5.3%\n",
      "    Tuesday No Show:5.7%\n",
      "    Wednesday No Show:5.4%\n",
      "    Thursday No Show:3.7%\n",
      "    Friday No Show:4.5%\n",
      "    Saturday No Show:0.0%\n",
      "\n",
      "Total SMS: 24099\n",
      "    Percentage Recd SMS: 33.6%\n",
      "    Percentage Recd SMS & No Showed: 45.3%\n",
      "\n"
     ]
    }
   ],
   "source": [
    "# Summary: Total Stats\n",
    "# Create: function to recall stats when needed\n",
    "\n",
    "def total_stats():\n",
    "    \n",
    "    print(('\\nTotal Statitics for Appointments:\\n    Total Num Appts: {}\\n').format(total_appts))    \n",
    "    print(('Total No Shows: {}\\n    Percentage No Shows: {:.1%}\\n').format(total_ns, total_perc_ns))\n",
    "    \n",
    "    print(('Total No Show Weekday Percentages:'))\n",
    "    wkd_ns_perc_all()\n",
    "    \n",
    "    print(('\\nTotal SMS: {}\\n    Percentage Recd SMS: {:.1%}\\n    Percentage Recd SMS & No Showed: {:.1%}\\n').format(total_sms, total_perc_sms, total_perc_ns_sms))    \n",
    "    \n",
    "total_stats()"
   ]
  },
  {
   "cell_type": "markdown",
   "metadata": {},
   "source": [
    "#### Charting: Total Values"
   ]
  },
  {
   "cell_type": "code",
   "execution_count": 25,
   "metadata": {},
   "outputs": [
    {
     "data": {
      "image/png": "[encoded data removed]",
      "text/plain": [
       "<matplotlib.figure.Figure at 0x7fc732fdab70>"
      ]
     },
     "metadata": {
      "needs_background": "light"
     },
     "output_type": "display_data"
    }
   ],
   "source": [
    "# Chart: Total Appointments, SMS Messages and No Shows\n",
    "\n",
    "# values\n",
    "stats = ['Total Appointments', 'Num No Shows', 'Received SMS']\n",
    "values = [71817,17663,24099]\n",
    "\n",
    "# plot \n",
    "fig = plt.figure()\n",
    "ax = fig.add_axes([0,0,1,1])\n",
    "ax.bar(stats,values)\n",
    "plt.ylabel('Number of Appointments\\n')\n",
    "plt.title('Total Appointments, SMS Messages and No Shows')\n",
    "plt.show()"
   ]
  },
  {
   "cell_type": "markdown",
   "metadata": {},
   "source": [
    "Design: Vertical bar chart showing total number of appointments, number of SMS messages received, and number of no shows. They were arranged as greatest to least (R-L) for easy reading. A blue color palatte was used so the visual was color blind friendly.\n",
    "\n",
    "\n",
    "Discusion: There were a total of 71817 appointments made. The columns next to it give a visual of the number of SMS messages received (24099) and number of no shows (17663). "
   ]
  },
  {
   "cell_type": "code",
   "execution_count": 29,
   "metadata": {},
   "outputs": [
    {
     "data": {
      "image/png": "[encoded data removed]",
      "text/plain": [
       "<matplotlib.figure.Figure at 0x7fc732dbfa58>"
      ]
     },
     "metadata": {
      "needs_background": "light"
     },
     "output_type": "display_data"
    }
   ],
   "source": [
    "# Chart: Total Appointments, Showed, Showed w/o SMS, Showed w/SMS\n",
    "\n",
    "# create data\n",
    "x = np.arange(1)\n",
    "total_appt = [71817]\n",
    "total_show = [54154]\n",
    "total_show_sms_no = [38058]\n",
    "total_show_sms = [16096]\n",
    "\n",
    "\n",
    "width = 0.1\n",
    "  \n",
    "# plot data in grouped manner of bar type\n",
    "plt.figure(figsize=(8,8))\n",
    "plt.ylabel('Number of Appointmetns\\n')\n",
    "plt.xticks(x, [''])\n",
    "plt.grid(axis = 'y')\n",
    "plt.bar(x - 0.2, total_appt, width, color='royalblue')\n",
    "plt.bar(x, total_show, width, color='cornflowerblue')\n",
    "plt.bar(x + 0.2, total_show_sms_no, width, color='lightsteelblue')\n",
    "plt.bar(x + 0.4, total_show_sms, width, color='powderblue')\n",
    "plt.title('Showed Statistics for Total Appointments\\n')\n",
    "plt.legend(['Total Appts','Total Showed', 'Total Showed w/o SMS', 'Total Showed w/ SMS']);"
   ]
  },
  {
   "cell_type": "markdown",
   "metadata": {},
   "source": [
    "NOTE: I chose to include gridlines with some of my graphs/charts because I have poor eye sight. The gridlines help with reference points so I can better see and understand the values. \n",
    "\n",
    "Design: vertical bar chart showing Total appointments and \"showed\" values greatest to least (L-R). They were arranged as greatest to least for easy reading. An X axis label was not created since it would be redundant information due to the legend describing what each column/color represents. A blue color palatte was used so the visual was color blind friendly.\n",
    "\n",
    "Discussion: Created a visual showing the total number of appointments and the breakdown of \"showed\" stats (showed, showed without SMS message, showed with SMS message) from greates to least. "
   ]
  },
  {
   "cell_type": "code",
   "execution_count": 31,
   "metadata": {},
   "outputs": [
    {
     "data": {
      "image/png": "[encoded data removed]",
      "text/plain": [
       "<matplotlib.figure.Figure at 0x7fc732d19b70>"
      ]
     },
     "metadata": {
      "needs_background": "light"
     },
     "output_type": "display_data"
    }
   ],
   "source": [
    "# Chart: Total Appointments, No Showed, No Showed w/o SMS, No Showed w/SMS\n",
    "\n",
    "# create data\n",
    "x = np.arange(1)\n",
    "total_appt = [71817]\n",
    "total_ns = [17663]\n",
    "total_ns_no_sms = [9660]\n",
    "total_ns_sms = [8003]\n",
    "\n",
    "width = 0.1\n",
    "  \n",
    "# plot data in grouped manner of bar type\n",
    "plt.figure(figsize=(8,8))\n",
    "plt.xticks(x, [''])\n",
    "plt.ylabel('Number of Appointments\\n')\n",
    "plt.grid(axis = 'y')\n",
    "plt.bar(x - 0.2, total_appt, width, color= 'royalblue')\n",
    "plt.bar(x, total_ns, width, color='cornflowerblue')\n",
    "plt.bar(x + 0.2, total_ns_no_sms, width, color='lightsteelblue')\n",
    "plt.bar(x + 0.4, total_ns_sms, width, color='powderblue')\n",
    "plt.title('No Show Statistics for Total Appointments\\n')\n",
    "plt.legend(['Total Appts','Total No Shows', 'Total No Show w/o SMS', 'Total No Show w/ SMS']);\n"
   ]
  },
  {
   "cell_type": "markdown",
   "metadata": {},
   "source": [
    "I found these discussion helpful:  \n",
    "[Bar Plot](https://www.tutorialspoint.com/matplotlib/matplotlib_bar_plot.htm), \n",
    "[What are the differences between add_axes and add_subplot?](https://stackoverflow.com/questions/43326680/what-are-the-differences-between-add-axes-and-add-subplot)\n"
   ]
  },
  {
   "cell_type": "markdown",
   "metadata": {},
   "source": [
    "Design: vertical bar chart showing Total appointments and \"no show\" values greatest to least (L-R). They were arranged as greatest to least for easy reading. An X axis label was not created since it would be redundant information due to the legend describing what each column/color represents. A blue color palatte was used so the visual was color blind friendly.\n",
    "\n",
    "Discussion: Created a visual showing the total number of appointments and the breakdown of \"no show\" stats (no show, no show without SMS message, no show with SMS message) from greates to least."
   ]
  },
  {
   "cell_type": "code",
   "execution_count": 32,
   "metadata": {},
   "outputs": [
    {
     "name": "stderr",
     "output_type": "stream",
     "text": [
      "/opt/conda/lib/python3.6/site-packages/ipykernel_launcher.py:7: UserWarning: Pandas doesn't allow columns to be created via a new attribute name - see https://pandas.pydata.org/pandas-docs/stable/indexing.html#attribute-access\n",
      "  import sys\n"
     ]
    },
    {
     "data": {
      "image/png": "[encoded data removed]",
      "text/plain": [
       "<matplotlib.figure.Figure at 0x7fc732ca27f0>"
      ]
     },
     "metadata": {
      "needs_background": "light"
     },
     "output_type": "display_data"
    }
   ],
   "source": [
    "#Chart: Horizontal Stacked Bar - total weekday statistics (# appts, sms reminders, no shows, no shows/sms reminders)\n",
    "\n",
    "df.hstacked_bar = pd.DataFrame(dict(graph=['Monday', 'Tuesday', 'Wednesday ', 'Thursday', 'Friday', 'Saturday'], \n",
    "                                    appts=[15108, 17089, 15936, 11058, 12598, 28], \n",
    "                                    ns=[3803, 4075, 3904, 2660, 3215, 6], \n",
    "                                    sms=[4794, 7164, 5768, 3271, 3093, 9 ], \n",
    "                                    nsms=[1600, 2387, 1925, 1122, 967, 1 ]))\n",
    "\n",
    "#y labels, values (index of each make the bars)\n",
    "width= 0.2 \n",
    "padding = 0.2\n",
    "\n",
    "#create tick locations\n",
    "ind = np.arange(len(df.hstacked_bar)) * (width * 4 + padding) # label locations\n",
    "\n",
    "#plotting\n",
    "fig, ax = plt.subplots(figsize = (16,10))\n",
    "                            \n",
    "ax.barh(ind, df.hstacked_bar.appts, width, align='edge', color = 'royalblue', label = 'Appts per Day')\n",
    "ax.barh(ind + width, df.hstacked_bar.sms, width, align='edge', color = 'cornflowerblue', label = '# of SMS Reminders')\n",
    "ax.barh(ind + 2 * width, df.hstacked_bar.ns, width, align='edge', color = 'orange', label = '# of No Shows')\n",
    "ax.barh(ind + 3 * width, df.hstacked_bar.nsms, width, align='edge', color = 'darkorange', label = '# of No Shows That Recd SMS Reminder')\n",
    "ax.set(yticks=ind + width, yticklabels = df.hstacked_bar.graph, ylim = [2 * width - 1, len(df.hstacked_bar)])\n",
    "\n",
    "ax.set_title('Total Weekday Statistics, by Weekday\\n')\n",
    "plt.xlabel('\\nNumber of Weekday Appointments')\n",
    "#plt.ylabel(\"Daily Values\\n\") -- redundant\n",
    "\n",
    "plt.grid(axis = 'x')\n",
    "\n",
    "ax.legend(title = 'Values')#upper right\n",
    "\n",
    "plt.tight_layout()\n",
    "plt.show;"
   ]
  },
  {
   "cell_type": "markdown",
   "metadata": {},
   "source": [
    "Design: horizongal grouped bar chart showing the \"show\", \"no show\" and SMS values in realation to each other and total number of appointments. An X axis label was not created since it would be redundant information due to the legend describing what each column/color represents. A blue-orange color palatte was used so the visual was color blind friendly.\n",
    "\n",
    "Discussion: Created a visual showing the total number of appointments, the breakdown of \"showed\" stats (showed, showed without SMS message, showed with SMS message) and their relation to each other from greates to least."
   ]
  },
  {
   "cell_type": "markdown",
   "metadata": {},
   "source": [
    "#### Exploration: Weekday Values"
   ]
  },
  {
   "cell_type": "code",
   "execution_count": 69,
   "metadata": {},
   "outputs": [
    {
     "data": {
      "text/html": [
       "<div>\n",
       "<style scoped>\n",
       "    .dataframe tbody tr th:only-of-type {\n",
       "        vertical-align: middle;\n",
       "    }\n",
       "\n",
       "    .dataframe tbody tr th {\n",
       "        vertical-align: top;\n",
       "    }\n",
       "\n",
       "    .dataframe thead th {\n",
       "        text-align: right;\n",
       "    }\n",
       "</style>\n",
       "<table border=\"1\" class=\"dataframe\">\n",
       "  <thead>\n",
       "    <tr style=\"text-align: right;\">\n",
       "      <th></th>\n",
       "      <th>no_show</th>\n",
       "    </tr>\n",
       "    <tr>\n",
       "      <th>weekday</th>\n",
       "      <th></th>\n",
       "    </tr>\n",
       "  </thead>\n",
       "  <tbody>\n",
       "    <tr>\n",
       "      <th>Friday</th>\n",
       "      <td>3215</td>\n",
       "    </tr>\n",
       "    <tr>\n",
       "      <th>Monday</th>\n",
       "      <td>3803</td>\n",
       "    </tr>\n",
       "    <tr>\n",
       "      <th>Saturday</th>\n",
       "      <td>6</td>\n",
       "    </tr>\n",
       "    <tr>\n",
       "      <th>Thursday</th>\n",
       "      <td>2660</td>\n",
       "    </tr>\n",
       "    <tr>\n",
       "      <th>Tuesday</th>\n",
       "      <td>4075</td>\n",
       "    </tr>\n",
       "    <tr>\n",
       "      <th>Wednesday</th>\n",
       "      <td>3904</td>\n",
       "    </tr>\n",
       "  </tbody>\n",
       "</table>\n",
       "</div>"
      ],
      "text/plain": [
       "           no_show\n",
       "weekday           \n",
       "Friday        3215\n",
       "Monday        3803\n",
       "Saturday         6\n",
       "Thursday      2660\n",
       "Tuesday       4075\n",
       "Wednesday     3904"
      ]
     },
     "execution_count": 69,
     "metadata": {},
     "output_type": "execute_result"
    }
   ],
   "source": [
    "# No Shows: number of No Shows by day\n",
    "\n",
    "ns_with_sms_table = (df_all_appt.loc[df_all_appt['no_show'] == 'Yes']).copy()\n",
    "ns_with_sms_table.drop(columns=(['appt_id', 'sms_reminder']),inplace=True)\n",
    "ns_with_sms_table.groupby('weekday').count()"
   ]
  },
  {
   "cell_type": "code",
   "execution_count": 70,
   "metadata": {},
   "outputs": [
    {
     "data": {
      "text/html": [
       "<div>\n",
       "<style scoped>\n",
       "    .dataframe tbody tr th:only-of-type {\n",
       "        vertical-align: middle;\n",
       "    }\n",
       "\n",
       "    .dataframe tbody tr th {\n",
       "        vertical-align: top;\n",
       "    }\n",
       "\n",
       "    .dataframe thead th {\n",
       "        text-align: right;\n",
       "    }\n",
       "</style>\n",
       "<table border=\"1\" class=\"dataframe\">\n",
       "  <thead>\n",
       "    <tr style=\"text-align: right;\">\n",
       "      <th></th>\n",
       "      <th>showed</th>\n",
       "    </tr>\n",
       "    <tr>\n",
       "      <th>weekday</th>\n",
       "      <th></th>\n",
       "    </tr>\n",
       "  </thead>\n",
       "  <tbody>\n",
       "    <tr>\n",
       "      <th>Friday</th>\n",
       "      <td>9383</td>\n",
       "    </tr>\n",
       "    <tr>\n",
       "      <th>Monday</th>\n",
       "      <td>11305</td>\n",
       "    </tr>\n",
       "    <tr>\n",
       "      <th>Saturday</th>\n",
       "      <td>22</td>\n",
       "    </tr>\n",
       "    <tr>\n",
       "      <th>Thursday</th>\n",
       "      <td>8398</td>\n",
       "    </tr>\n",
       "    <tr>\n",
       "      <th>Tuesday</th>\n",
       "      <td>13014</td>\n",
       "    </tr>\n",
       "    <tr>\n",
       "      <th>Wednesday</th>\n",
       "      <td>12032</td>\n",
       "    </tr>\n",
       "  </tbody>\n",
       "</table>\n",
       "</div>"
      ],
      "text/plain": [
       "           showed\n",
       "weekday          \n",
       "Friday       9383\n",
       "Monday      11305\n",
       "Saturday       22\n",
       "Thursday     8398\n",
       "Tuesday     13014\n",
       "Wednesday   12032"
      ]
     },
     "execution_count": 70,
     "metadata": {},
     "output_type": "execute_result"
    }
   ],
   "source": [
    "# Showed: number of kept apptointments by day\n",
    "\n",
    "show_with_sms_table = (df_all_appt.loc[df_all_appt['no_show'] == 'No']).copy()\n",
    "show_with_sms_table.drop(columns=(['appt_id', 'sms_reminder']),inplace=True)\n",
    "show_with_sms_table.rename(columns = {'no_show' : 'showed'}, inplace = True)\n",
    "show_with_sms_table.groupby('weekday').count()"
   ]
  },
  {
   "cell_type": "code",
   "execution_count": 71,
   "metadata": {},
   "outputs": [
    {
     "data": {
      "text/html": [
       "<div>\n",
       "<style scoped>\n",
       "    .dataframe tbody tr th:only-of-type {\n",
       "        vertical-align: middle;\n",
       "    }\n",
       "\n",
       "    .dataframe tbody tr th {\n",
       "        vertical-align: top;\n",
       "    }\n",
       "\n",
       "    .dataframe thead th {\n",
       "        text-align: right;\n",
       "    }\n",
       "</style>\n",
       "<table border=\"1\" class=\"dataframe\">\n",
       "  <thead>\n",
       "    <tr style=\"text-align: right;\">\n",
       "      <th></th>\n",
       "      <th>sms_reminder</th>\n",
       "    </tr>\n",
       "    <tr>\n",
       "      <th>weekday</th>\n",
       "      <th></th>\n",
       "    </tr>\n",
       "  </thead>\n",
       "  <tbody>\n",
       "    <tr>\n",
       "      <th>Friday</th>\n",
       "      <td>3093</td>\n",
       "    </tr>\n",
       "    <tr>\n",
       "      <th>Monday</th>\n",
       "      <td>4794</td>\n",
       "    </tr>\n",
       "    <tr>\n",
       "      <th>Saturday</th>\n",
       "      <td>9</td>\n",
       "    </tr>\n",
       "    <tr>\n",
       "      <th>Thursday</th>\n",
       "      <td>3271</td>\n",
       "    </tr>\n",
       "    <tr>\n",
       "      <th>Tuesday</th>\n",
       "      <td>7164</td>\n",
       "    </tr>\n",
       "    <tr>\n",
       "      <th>Wednesday</th>\n",
       "      <td>5768</td>\n",
       "    </tr>\n",
       "  </tbody>\n",
       "</table>\n",
       "</div>"
      ],
      "text/plain": [
       "           sms_reminder\n",
       "weekday                \n",
       "Friday             3093\n",
       "Monday             4794\n",
       "Saturday              9\n",
       "Thursday           3271\n",
       "Tuesday            7164\n",
       "Wednesday          5768"
      ]
     },
     "execution_count": 71,
     "metadata": {},
     "output_type": "execute_result"
    }
   ],
   "source": [
    "# SMS Received: number of SMS Messages by day\n",
    "\n",
    "ns_with_sms_table2 = (df_all_appt.loc[df_all_appt['sms_reminder'] == 'Yes']).copy()\n",
    "ns_with_sms_table2.drop(columns=(['appt_id', 'no_show']),inplace=True)\n",
    "ns_with_sms_table2.groupby('weekday').count()"
   ]
  },
  {
   "cell_type": "markdown",
   "metadata": {},
   "source": [
    "I found these helpful: [How to Select a Subset](https://pandas.pydata.org/docs/dev/getting_started/intro_tutorials/03_subset_data.html), [Grouping and Count](https://stackoverflow.com/questions/67608121/how-to-groupby-and-count-binomial-variable-in-python-and-make-a-plot-of-this) "
   ]
  },
  {
   "cell_type": "code",
   "execution_count": 34,
   "metadata": {},
   "outputs": [
    {
     "data": {
      "image/png": "[encoded data removed]",
      "text/plain": [
       "<matplotlib.figure.Figure at 0x7fc732e38dd8>"
      ]
     },
     "metadata": {
      "needs_background": "light"
     },
     "output_type": "display_data"
    }
   ],
   "source": [
    "# Chart: Number of SMS Recevied and No Shows\n",
    "  \n",
    "# create data\n",
    "x = np.arange(6)\n",
    "sms_received = [3093, 4793, 9, 3271, 7164, 5768]\n",
    "no_shows = [3215, 3803, 6, 2660, 4075, 3904]\n",
    "width = 0.4\n",
    "  \n",
    "# plot data in grouped manner of bar type\n",
    "plt.figure(figsize=(12,8))\n",
    "plt.ylabel('Number of Appointments\\n')\n",
    "plt.xticks(x, ['Monday', 'Tuesday', 'Wednesday', 'Thursday', 'Friday', 'Saturday'])\n",
    "plt.bar(x-0.2, sms_received, width)\n",
    "plt.bar(x+0.2, no_shows, width)\n",
    "plt.title('Number of No Show Appoitments and SMS Messages Received\\n')\n",
    "plt.legend(['SMS_Received','No Shows']);\n"
   ]
  },
  {
   "cell_type": "markdown",
   "metadata": {},
   "source": [
    "Design: vertical grouped bar chart showing the \"no show\" and SMS values in realation to each other. They are showing in a Mon-Sat order since this is an overall visual and not realted greatest/least. A blue-orange color palatte was used so the visual was color blind friendly. \n",
    "\n",
    "Discussion: Created a visual showing the total number no shows and SMS messages received by day. This is an overall visual, not greatest/least, so a Mon-Sat order was used to give an idea of how they are distrubuted throughout the week. "
   ]
  },
  {
   "cell_type": "markdown",
   "metadata": {},
   "source": [
    "I found these discussions helpful.\n",
    "\n",
    "[Horizontal Bar Plot](https://stackoverflow.com/questions/55554459/horizontal-bar-plot-with-multiple-bars-per-ytick), \n",
    "[Adding Grid Lines]( https://www.w3schools.com/python/matplotlib_grid.asp), [Align Axis Ticks](https://stackoverflow.com/questions/15382311/align-x-axis-ticks-in-bar-plot), [Matplotlib Colors](https://matplotlib.org/stable/gallery/color/named_colors.html)"
   ]
  },
  {
   "cell_type": "markdown",
   "metadata": {},
   "source": [
    "#### Exploration: No Shows Who Received SMS Messages"
   ]
  },
  {
   "cell_type": "code",
   "execution_count": 73,
   "metadata": {},
   "outputs": [
    {
     "data": {
      "text/html": [
       "<div>\n",
       "<style scoped>\n",
       "    .dataframe tbody tr th:only-of-type {\n",
       "        vertical-align: middle;\n",
       "    }\n",
       "\n",
       "    .dataframe tbody tr th {\n",
       "        vertical-align: top;\n",
       "    }\n",
       "\n",
       "    .dataframe thead th {\n",
       "        text-align: right;\n",
       "    }\n",
       "</style>\n",
       "<table border=\"1\" class=\"dataframe\">\n",
       "  <thead>\n",
       "    <tr style=\"text-align: right;\">\n",
       "      <th></th>\n",
       "      <th>sms_reminder</th>\n",
       "      <th>no_show</th>\n",
       "    </tr>\n",
       "    <tr>\n",
       "      <th>weekday</th>\n",
       "      <th></th>\n",
       "      <th></th>\n",
       "    </tr>\n",
       "  </thead>\n",
       "  <tbody>\n",
       "    <tr>\n",
       "      <th>Friday</th>\n",
       "      <td>967</td>\n",
       "      <td>967</td>\n",
       "    </tr>\n",
       "    <tr>\n",
       "      <th>Monday</th>\n",
       "      <td>1600</td>\n",
       "      <td>1600</td>\n",
       "    </tr>\n",
       "    <tr>\n",
       "      <th>Saturday</th>\n",
       "      <td>2</td>\n",
       "      <td>2</td>\n",
       "    </tr>\n",
       "    <tr>\n",
       "      <th>Thursday</th>\n",
       "      <td>1122</td>\n",
       "      <td>1122</td>\n",
       "    </tr>\n",
       "    <tr>\n",
       "      <th>Tuesday</th>\n",
       "      <td>2387</td>\n",
       "      <td>2387</td>\n",
       "    </tr>\n",
       "    <tr>\n",
       "      <th>Wednesday</th>\n",
       "      <td>1925</td>\n",
       "      <td>1925</td>\n",
       "    </tr>\n",
       "  </tbody>\n",
       "</table>\n",
       "</div>"
      ],
      "text/plain": [
       "           sms_reminder  no_show\n",
       "weekday                         \n",
       "Friday              967      967\n",
       "Monday             1600     1600\n",
       "Saturday              2        2\n",
       "Thursday           1122     1122\n",
       "Tuesday            2387     2387\n",
       "Wednesday          1925     1925"
      ]
     },
     "execution_count": 73,
     "metadata": {},
     "output_type": "execute_result"
    }
   ],
   "source": [
    "# Create: table with only total number of no show patients that also received an sms reminder\n",
    "\n",
    "total_ns_sms_yes_table = ns_with_sms.reset_index()\n",
    "total_ns_sms_yes_table.drop(columns=(['appt_id']),inplace=True)\n",
    "total_ns_sms_yes_table.groupby('weekday').count()\n"
   ]
  },
  {
   "cell_type": "code",
   "execution_count": 38,
   "metadata": {},
   "outputs": [
    {
     "data": {
      "image/png": "[encoded data removed]",
      "text/plain": [
       "<matplotlib.figure.Figure at 0x7fc7330657f0>"
      ]
     },
     "metadata": {
      "needs_background": "light"
     },
     "output_type": "display_data"
    }
   ],
   "source": [
    "#Chart: Percent of No Shows that also received an SMS Message\n",
    "\n",
    "# importing package\n",
    "import matplotlib.pyplot as plt\n",
    " \n",
    "# values\n",
    "x = ['No Shows']\n",
    "ybottom = [45.3]\n",
    "ytop = [54.7]\n",
    " \n",
    "# plot bars in stack manner\n",
    "plt.figure(figsize=(2,4))\n",
    "plt.bar(x, ybottom, color='orange')\n",
    "plt.bar(x, ytop, bottom=ybottom, color='blue')\n",
    "plt.title('% of No Shows That Also Received SMS Message\\n')\n",
    "plt.ylabel('Percentage\\n')\n",
    "\n",
    "# legend and placement\n",
    "plt.legend(['% Recd SMS', 'No Shows '], bbox_to_anchor=(1.04, 1), borderaxespad=0)\n",
    "plt.show()"
   ]
  },
  {
   "cell_type": "markdown",
   "metadata": {},
   "source": [
    "I found these discussions helpful\n",
    "\n",
    "[Rounding a Percentage](https://stackoverflow.com/questions/22250692/rounding-a-percentage-in-python), [Counting 'Yes' in a Column](https://stackoverflow.com/questions/60240644/how-can-i-count-only-yes-entities-in-my-column-of-a-dataframe), \n",
    "\n",
    "[Stacked Bar Plot](https://www.geeksforgeeks.org/create-a-stacked-bar-plot-in-matplotlib/), [Legend Locations](https://stackoverflow.com/questions/4700614/how-to-put-the-legend-outside-the-plot/43439132#43439132)"
   ]
  },
  {
   "cell_type": "markdown",
   "metadata": {},
   "source": [
    "Design: vertical stacked bar chart showing the total no shows and the percentage of no shows that received an SMS values in realation to each other. A blue-orange color palatte was used so the visual was color blind friendly.\n",
    "\n",
    "Discussion: Created a visual showing the total number no shows (100% - blue) with and overlay of the percentage of no shows that received an SMS messages (45.3% - orange). "
   ]
  },
  {
   "cell_type": "markdown",
   "metadata": {},
   "source": [
    "#### Function: No Show Statistics"
   ]
  },
  {
   "cell_type": "code",
   "execution_count": 75,
   "metadata": {},
   "outputs": [],
   "source": [
    "# FUNCTION: find daily no_show values\n",
    "# Can be used with x = individual day or in FUNCTION weekday statistics for full summary\n",
    "\n",
    "def no_show(x):\n",
    "    # x = weekday\n",
    "    \n",
    "    # separate no_show y/n into two seprate df \n",
    "    ns_yes = len(df[(df['weekday'] == x) & (df['no_show'] == 'Yes')]) \n",
    "    ns_no = len(df[(df['weekday'] == x) & (df['no_show'] == 'No')]) \n",
    "    \n",
    "    ns_total = ns_yes + ns_no\n",
    "    ns_percent = ns_yes/ns_total\n",
    "     \n",
    "    print(('{} No Show statistics:\\n    Appts made: {}\\n    # No Shows: {}\\n    Percent No Show: {:.1%}\\n')\n",
    "          .format(x, ns_total, ns_yes, ns_percent))   \n",
    "    "
   ]
  },
  {
   "cell_type": "markdown",
   "metadata": {},
   "source": [
    "#### Function: SMS Reminder Statistics"
   ]
  },
  {
   "cell_type": "code",
   "execution_count": 76,
   "metadata": {},
   "outputs": [],
   "source": [
    "# FUNCTION: find daily SMS values\n",
    "# Can be used with x = individual day or in FUNCTION weekday statistics for full summary\n",
    "\n",
    "def sms_reminder(x):\n",
    "    # x = weekday\n",
    "    \n",
    "    # total number of sms reminders sent\n",
    "    total_sms = df_all_appt['sms_reminder'].value_counts()['Yes']\n",
    "    \n",
    "    # separate sms y/n into two seprate df \n",
    "    sms_yes = len(df[(df['weekday'] == x) & (df['sms_reminder'] == 'Yes')]) \n",
    "    sms_no = len(df[(df['weekday'] == x) & (df['sms_reminder'] == 'No')]) \n",
    "    \n",
    "   # steps for df to determine no show appts that also received sms reminders, by day\n",
    "    df_weekday_all = df[['sms_reminder', 'weekday','no_show']].copy()\n",
    "    ns_sms_weekday1 = (df_weekday_all.loc[df_weekday_all['no_show'] == 'Yes']) \n",
    "    ns_sms_weekday2 = (ns_sms_weekday1.loc[ns_sms_weekday1['sms_reminder'] == 'Yes'])\n",
    "\n",
    "    ns_sms_weekday = ns_sms_weekday2[['weekday', 'no_show']]['weekday']\n",
    "    ns_sms_weekday_num= len(ns_sms_weekday2.loc[ns_sms_weekday2['weekday'] == x])\n",
    "    \n",
    "    # percent of weekday no shows that also received an sms reminder\n",
    "    weekday_sms_perc = ns_sms_weekday_num / sms_yes\n",
    "   \n",
    "    \n",
    "    print(('{} SMS statistics:\\n    Daily SMS sent: {}\\n    # No Show w/ SMS Reminder: {}\\n    Percent No Shows w/ SMS Reminder: {:.1%}\\n').format(x, sms_yes, ns_sms_weekday_num, weekday_sms_perc))   "
   ]
  },
  {
   "cell_type": "markdown",
   "metadata": {},
   "source": [
    "#### Function: Weekday Statistics"
   ]
  },
  {
   "cell_type": "code",
   "execution_count": 77,
   "metadata": {},
   "outputs": [],
   "source": [
    "#FUNCTION: weekday stats summary\n",
    "\n",
    "def weekday_statistics():\n",
    "\n",
    "    weekdays = ['Monday', 'Tuesday', 'Wednesday', 'Thursday', 'Friday', 'Saturday']\n",
    "\n",
    "    for x in weekdays:\n",
    "           no_show(x), sms_reminder(x)\n",
    "    "
   ]
  },
  {
   "cell_type": "markdown",
   "metadata": {},
   "source": [
    "I found this discussion helpful.  \n",
    "[Why is my for loop returning none?](https://stackoverflow.com/questions/44275088/for-loop-returning-none)"
   ]
  },
  {
   "cell_type": "code",
   "execution_count": 78,
   "metadata": {},
   "outputs": [
    {
     "name": "stdout",
     "output_type": "stream",
     "text": [
      "Monday No Show statistics:\n",
      "    Appts made: 15108\n",
      "    # No Shows: 3803\n",
      "    Percent No Show: 25.2%\n",
      "\n",
      "Monday SMS statistics:\n",
      "    Daily SMS sent: 4794\n",
      "    # No Show w/ SMS Reminder: 1600\n",
      "    Percent No Shows w/ SMS Reminder: 33.4%\n",
      "\n",
      "Tuesday No Show statistics:\n",
      "    Appts made: 17089\n",
      "    # No Shows: 4075\n",
      "    Percent No Show: 23.8%\n",
      "\n",
      "Tuesday SMS statistics:\n",
      "    Daily SMS sent: 7164\n",
      "    # No Show w/ SMS Reminder: 2387\n",
      "    Percent No Shows w/ SMS Reminder: 33.3%\n",
      "\n",
      "Wednesday No Show statistics:\n",
      "    Appts made: 15936\n",
      "    # No Shows: 3904\n",
      "    Percent No Show: 24.5%\n",
      "\n",
      "Wednesday SMS statistics:\n",
      "    Daily SMS sent: 5768\n",
      "    # No Show w/ SMS Reminder: 1925\n",
      "    Percent No Shows w/ SMS Reminder: 33.4%\n",
      "\n",
      "Thursday No Show statistics:\n",
      "    Appts made: 11058\n",
      "    # No Shows: 2660\n",
      "    Percent No Show: 24.1%\n",
      "\n",
      "Thursday SMS statistics:\n",
      "    Daily SMS sent: 3271\n",
      "    # No Show w/ SMS Reminder: 1122\n",
      "    Percent No Shows w/ SMS Reminder: 34.3%\n",
      "\n",
      "Friday No Show statistics:\n",
      "    Appts made: 12598\n",
      "    # No Shows: 3215\n",
      "    Percent No Show: 25.5%\n",
      "\n",
      "Friday SMS statistics:\n",
      "    Daily SMS sent: 3093\n",
      "    # No Show w/ SMS Reminder: 967\n",
      "    Percent No Shows w/ SMS Reminder: 31.3%\n",
      "\n",
      "Saturday No Show statistics:\n",
      "    Appts made: 28\n",
      "    # No Shows: 6\n",
      "    Percent No Show: 21.4%\n",
      "\n",
      "Saturday SMS statistics:\n",
      "    Daily SMS sent: 9\n",
      "    # No Show w/ SMS Reminder: 2\n",
      "    Percent No Shows w/ SMS Reminder: 22.2%\n",
      "\n"
     ]
    }
   ],
   "source": [
    "#Summary : Full weekday statistics\n",
    "\n",
    "weekday_statistics()"
   ]
  },
  {
   "cell_type": "code",
   "execution_count": 39,
   "metadata": {},
   "outputs": [
    {
     "data": {
      "image/png": "[encoded data removed]",
      "text/plain": [
       "<matplotlib.figure.Figure at 0x7fc732dad860>"
      ]
     },
     "metadata": {},
     "output_type": "display_data"
    }
   ],
   "source": [
    "#Chart: Pie - percentage of total appointments made by weekday\n",
    "\n",
    "# values\n",
    "labels = 'Monday', 'Tuesday', 'Wednesday', 'Thursday', 'Friday', 'Saturday'\n",
    "sizes = [15108, 17089, 15936, 11058, 12598, 28]# quantity of the whole\n",
    "\n",
    "# plot\n",
    "fig, axs = plt.subplots(figsize = [6,6])\n",
    "\n",
    "plt.title('% of Total Appointments Made by Weekday')\n",
    "plt.pie(sizes, labels = labels, autopct='%1.1f%%')\n",
    "plt.show() "
   ]
  },
  {
   "cell_type": "markdown",
   "metadata": {},
   "source": [
    "Design: pie chart showing the breakdown of weekday appointments by percentage. A flat pie chart was used so that the slices would be an accurate representation of percentages. \n",
    "\n",
    "Discussion: Created a visual showing the breakdown of weekday appointments by percentage. Saturday does have a very small value (<0.1%) which translated to 0.0% on the chart. "
   ]
  },
  {
   "cell_type": "markdown",
   "metadata": {},
   "source": [
    "I found these discussions helpful:\n",
    "\n",
    "[Matplotlib Pie Chart](https://www.w3schools.com/python/matplotlib_pie_charts.asp), [Set Size of Subplot](https://stackoverflow.com/questions/41530975/set-size-of-subplot-in-matplotlib)\n"
   ]
  },
  {
   "cell_type": "markdown",
   "metadata": {},
   "source": [
    "### Q1: Which day(s) are clients more likely to be a no show?"
   ]
  },
  {
   "cell_type": "code",
   "execution_count": 45,
   "metadata": {},
   "outputs": [
    {
     "data": {
      "image/png": "[encoded data removed]",
      "text/plain": [
       "<matplotlib.figure.Figure at 0x7fc732c09668>"
      ]
     },
     "metadata": {
      "needs_background": "light"
     },
     "output_type": "display_data"
    }
   ],
   "source": [
    "# Chart: Total Appointments that No Showed by day\n",
    "\n",
    "# values\n",
    "stats= ['Tuesday', 'Wednesday', 'Monday', 'Friday', 'Thursday', 'Saturday']\n",
    "values = [4075, 3904, 3803, 3215, 2660, 6]\n",
    "\n",
    "# plot \n",
    "s = pd.Series(values, index=stats)\n",
    "plt.ylabel('Number of Appointments\\n')\n",
    "s.plot(kind='bar', title = 'Appiontments That No Showed by Day\\n', figsize= [8,5], rot=0, color='blue');"
   ]
  },
  {
   "cell_type": "markdown",
   "metadata": {},
   "source": [
    "Design: vertical bar chart showing the number of appointments by day that no showed. Values are arranged greatest to least (L-R) for easy reading. A blue color palatte was used so the visual was color blind friendly.\n",
    "\n",
    "Discussion: Created a visual showing the number of appointments by day that no showed. The values are arranged greatest to least in the following weekday order: Tuesday (w/4075), Wednesday, Monday, Friday, Thursday and ending with Saturday (w/6)."
   ]
  },
  {
   "cell_type": "code",
   "execution_count": 47,
   "metadata": {},
   "outputs": [
    {
     "data": {
      "image/png": "[encoded data removed]",
      "text/plain": [
       "<matplotlib.figure.Figure at 0x7fc7330650f0>"
      ]
     },
     "metadata": {
      "needs_background": "light"
     },
     "output_type": "display_data"
    }
   ],
   "source": [
    "# Chart: Compares No Show percentage over all appointments and weekday appointments\n",
    "  \n",
    "# create data\n",
    "x = np.arange(6)\n",
    "total_wkd_ns = [5.3, 5.7, 5.4, 3.7, 4.5, 0] # no shows / total appointments = % No Shows Overall\n",
    "ns_by_wkd = [25.2, 23.8, 24.5, 24.1, 25.5, 21.4] # no shows / total appointments that day = % No Shows Weekday\n",
    "width = 0.4\n",
    "  \n",
    "# plot data in grouped manner of bar type\n",
    "plt.figure(figsize=(15,8))\n",
    "plt.grid(axis = 'y')\n",
    "plt.xticks(x, ['Monday', 'Tuesday', 'Wednesday', 'Thursday', 'Friday', 'Saturday'])\n",
    "plt.ylabel('Percentage\\n')\n",
    "plt.bar(x-0.2, ns_by_wkd, width)\n",
    "plt.bar(x+0.2, total_wkd_ns, width)\n",
    "plt.title('% No Shows Over All Appontments vs % No Shows for Weekday Appointments\\n')\n",
    "plt.legend(['% No Shows by Weekday','% No Shows Overall']);\n"
   ]
  },
  {
   "cell_type": "markdown",
   "metadata": {},
   "source": [
    "Design: vertical grouped bar chart showing the percentage for overall no shows in relation to the percentage of no shows by weekday. They are showing in a Mon-Sat order since this is an overall visual and not realted greatest/least. A blue-orange color palatte was used so the visual was color blind friendly. "
   ]
  },
  {
   "cell_type": "markdown",
   "metadata": {},
   "source": [
    "Based simply on the number of no shows, Tuesday has the higher percentage of no shows when compared to the over all number of appointments (orange). However, a comparison of the percentage of now shows per day would be a more accurate measure. Friday has the highest no show percentage when comparing the numer of no shows to the number of daily appointments (blue). \n",
    "\n",
    "Conclusion:\n",
    "\n",
    "No show appointments are more likely to occur on Fridays."
   ]
  },
  {
   "cell_type": "markdown",
   "metadata": {},
   "source": [
    "### Q2: Is there a correlation betwen no shows and not receiving an SMS reminder?"
   ]
  },
  {
   "cell_type": "code",
   "execution_count": 82,
   "metadata": {},
   "outputs": [
    {
     "data": {
      "image/png": "[encoded data removed]",
      "text/plain": [
       "<matplotlib.figure.Figure at 0x7f112c5c2518>"
      ]
     },
     "metadata": {
      "needs_background": "light"
     },
     "output_type": "display_data"
    }
   ],
   "source": [
    "#Compare no shows wi# Chart: Total Appointments that No Showed by day\n",
    "\n",
    "# values\n",
    "stats= ['Tuesday', 'Wednesday', 'Monday', 'Friday', 'Thursday', 'Saturday']\n",
    "values = [4075, 3904, 3803, 3215, 2660, 6]\n",
    "\n",
    "# plot \n",
    "s = pd.Series(values, index=stats)\n",
    "s.plot(kind='bar', title = 'Appiontments That No Showed by Day', figsize= [10,5], rot=0, color='blue');\n"
   ]
  },
  {
   "cell_type": "markdown",
   "metadata": {},
   "source": [
    "Design: vertical bar chart showing the number of appointments by day that no showed. Values are arranged greatest to least (L-R) for easy reading. A blue color palatte was used so the visual was color blind friendly.\n",
    "\n",
    "Discussion: Included the Appointments That No Showed by Day chart again since we are continuing to deal witih no shows. The visual was created to show the number of appointments by day that no showed. The values are arranged greatest to least in the following weekday order: Tuesday (w/4075), Wednesday, Monday, Friday, Thursday and ending with Saturday (w/6)."
   ]
  },
  {
   "cell_type": "code",
   "execution_count": 83,
   "metadata": {},
   "outputs": [
    {
     "data": {
      "image/png": "[encoded data removed]",
      "text/plain": [
       "<matplotlib.figure.Figure at 0x7f112c500be0>"
      ]
     },
     "metadata": {
      "needs_background": "light"
     },
     "output_type": "display_data"
    }
   ],
   "source": [
    "#Chart: Percent of No Shows that also received an SMS Message\n",
    "\n",
    "# importing package\n",
    "import matplotlib.pyplot as plt\n",
    " \n",
    "# values\n",
    "x = [''] #blank X lable; not needed with legened. removing showed default numbers as X axis.\n",
    "ytop = [54.7]\n",
    "ybottom = [45.3]\n",
    "\n",
    " \n",
    "# plot bars in stack manner\n",
    "plt.figure(figsize=(2,4))\n",
    "plt.bar(x, ytop, bottom=ybottom, color='blue')\n",
    "plt.bar(x, ybottom, color='orange')\n",
    "plt.title('% of No Shows That Received An SMS Message\\n')\n",
    "\n",
    "\n",
    "# legend and placement\n",
    "plt.legend(['No Shows', '% Recd SMS'], bbox_to_anchor=(1.04, 1), borderaxespad=0)\n",
    "plt.show()"
   ]
  },
  {
   "cell_type": "markdown",
   "metadata": {},
   "source": [
    "Design: vertical stacked bar chart showing the total no shows and the percentage of no shows that received an SMS values in realation to each other. A blue-orange color palatte was used so the visual was color blind friendly.\n",
    "\n",
    "Discussion: Created a visual showing the total number no shows (100% - blue) with and overlay of the percentage of no shows that received an SMS messages (45.3% - orange)."
   ]
  },
  {
   "cell_type": "code",
   "execution_count": 84,
   "metadata": {},
   "outputs": [
    {
     "data": {
      "image/png": "[encoded data removed]",
      "text/plain": [
       "<matplotlib.figure.Figure at 0x7f112c4e9b70>"
      ]
     },
     "metadata": {
      "needs_background": "light"
     },
     "output_type": "display_data"
    }
   ],
   "source": [
    "#Chart: Percent of No Shows that did not receive an SMS Message\n",
    "\n",
    "# importing package\n",
    "import matplotlib.pyplot as plt\n",
    " \n",
    "# values\n",
    "x = [' '] #blank X lable; not needed with legened. removing showed default numbers as X axis.\n",
    "ytop = [45.3]\n",
    "ybottom = [54.7]\n",
    "\n",
    " \n",
    "# plot bars in stack manner\n",
    "plt.figure(figsize=(2,4))\n",
    "plt.bar(x, ytop, bottom=ybottom, color='blue')\n",
    "plt.bar(x, ybottom, color='orange')\n",
    "plt.title('% of No Shows Without SMS Message\\n')\n",
    "\n",
    "\n",
    "# legend and placement\n",
    "plt.legend(['No Shows', '% Without An SMS'], bbox_to_anchor=(1.04, 1), borderaxespad=0)\n",
    "plt.show()"
   ]
  },
  {
   "cell_type": "markdown",
   "metadata": {},
   "source": [
    "Design: vertical stacked bar chart showing the total no shows and the percentage of no shows that received an SMS values in realation to each other. A blue-orange color palatte was used so the visual was color blind friendly.\n",
    "\n",
    "Discussion: Created a visual showing the total number no shows (100% - blue) with and overlay of the percentage of no shows that did not received an SMS messages (54.7% - orange)."
   ]
  },
  {
   "cell_type": "code",
   "execution_count": 49,
   "metadata": {},
   "outputs": [
    {
     "data": {
      "image/png": "[encoded data removed]",
      "text/plain": [
       "<matplotlib.figure.Figure at 0x7fc7332e79e8>"
      ]
     },
     "metadata": {
      "needs_background": "light"
     },
     "output_type": "display_data"
    }
   ],
   "source": [
    "# create data\n",
    "x = np.arange(1)\n",
    "total_ns = [17663]\n",
    "total_ns_no_sms = [9660]\n",
    "total_ns_sms = [8003]\n",
    "\n",
    "width = 0.2\n",
    "  \n",
    "# plot data in grouped manner of bar type\n",
    "plt.figure(figsize=(8,8))\n",
    "plt.xticks(x, [''])\n",
    "plt.ylabel('Number of Appointments\\n')\n",
    "plt.grid(axis = 'y')\n",
    "plt.bar(x - 0.2, total_ns, width, color= 'royalblue')\n",
    "plt.bar(x, total_ns_no_sms, width, color='cornflowerblue')\n",
    "plt.bar(x + 0.2, total_ns_sms, width, color='lightsteelblue')\n",
    "\n",
    "plt.title('No Show Statistics for Total Appointments\\n')\n",
    "plt.legend(['Total No Shows', 'Total No Show w/o SMS', 'Total No Show w/ SMS']);"
   ]
  },
  {
   "cell_type": "markdown",
   "metadata": {},
   "source": [
    "Design: vertical bar chart showing total no show appointments and their breakdown into no show without SMS messages and with SMS messages. The values are arranged greatest to least (L-R) for easy reading. An X axis label was not created since it would be redundant information due to the legend describing what each column/color represents. A blue color palatte was used so the visual was color blind friendly."
   ]
  },
  {
   "cell_type": "markdown",
   "metadata": {},
   "source": [
    "There were a total of 17,663 no shows. Of those, 8003 received an SMS reminder while 9660 did not receive one. \n",
    "\n",
    "Conclusion:\n",
    "\n",
    "We can see that there is a possible correlation between receivnig an SMS reminder and no show appointments since no shows with SMS reminder had the smallest number. "
   ]
  },
  {
   "cell_type": "markdown",
   "metadata": {},
   "source": [
    "<a id='conclusions'></a>\n",
    "### Conclusions\n",
    "Q1: Which day(s) are clients more likely to be a no show?\n",
    "\n",
    "Conclusion:\n",
    "\n",
    "No show appointments are more likely to occur on Fridays.\n",
    "\n",
    "Q2: Is there a correlation betwen no shows and not receiving an SMS reminder?\n",
    "\n",
    "Conclusion:\n",
    "\n",
    "We can see that there is a possible correlation between receivnig an SMS reminder and no show appointments since no shows with SMS reminder had the smallest number. \n",
    "\n",
    "\n",
    "### Limitations\n",
    "\n",
    "I discovered a limitation within the dataset while exploring the correlation between receiving an SMS message and no shows. Without a larger sample, the best that can be concluded is a possible correlcation between the two. \n",
    "\n",
    "There is not enough data available to make definitive cause and effect conclusion. We would also need addition information that is not supplied with the dataset. I would suggest following up with a supplemental questionaire asking if patients about the SMS remiders and their impact on whether or not they no showed. "
   ]
  }
 ],
 "metadata": {
  "kernelspec": {
   "display_name": "Python 3",
   "language": "python",
   "name": "python3"
  },
  "language_info": {
   "codemirror_mode": {
    "name": "ipython",
    "version": 3
   },
   "file_extension": ".py",
   "mimetype": "text/x-python",
   "name": "python",
   "nbconvert_exporter": "python",
   "pygments_lexer": "ipython3",
   "version": "3.6.3"
  }
 },
 "nbformat": 4,
 "nbformat_minor": 2
}
